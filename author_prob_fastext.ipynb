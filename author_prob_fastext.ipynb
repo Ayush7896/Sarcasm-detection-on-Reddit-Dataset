{
 "cells": [
  {
   "cell_type": "code",
   "execution_count": 1,
   "metadata": {
    "execution": {
     "iopub.execute_input": "2022-07-27T12:26:42.489269Z",
     "iopub.status.busy": "2022-07-27T12:26:42.488734Z",
     "iopub.status.idle": "2022-07-27T12:26:55.344618Z",
     "shell.execute_reply": "2022-07-27T12:26:55.343642Z",
     "shell.execute_reply.started": "2022-07-27T12:26:42.489105Z"
    }
   },
   "outputs": [],
   "source": [
    "import numpy as np\n",
    "import pandas as pd\n",
    "import tensorflow as tf\n",
    "import keras\n",
    "from keras.layers import Dropout,BatchNormalization,LSTM,Bidirectional,GlobalMaxPool1D,Input,Activation,Flatten,Embedding,Dense,concatenate,Conv1D,MaxPooling1D\n",
    "import string\n",
    "import re\n",
    "from tqdm import tqdm\n",
    "import nltk\n",
    "from keras.preprocessing.text import Tokenizer\n",
    "from keras.preprocessing.sequence import pad_sequences\n",
    "from nltk.corpus import stopwords\n",
    "import spacy\n",
    "from sklearn.model_selection import train_test_split\n",
    "from sklearn.metrics import confusion_matrix,f1_score,recall_score,precision_score,classification_report\n",
    "import os\n",
    "from keras.models import Model\n",
    "import seaborn as sns\n",
    "from matplotlib import pyplot as plt\n",
    "from wordcloud import WordCloud, STOPWORDS\n",
    "import warnings\n",
    "warnings.filterwarnings('ignore')\n",
    "import tensorboard\n",
    "from textblob import TextBlob\n",
    "import os\n",
    "import tensorboard\n",
    "from tensorflow.keras.callbacks import EarlyStopping\n",
    "from tensorflow.keras.callbacks import ModelCheckpoint\n",
    "import datetime\n",
    "from keras.initializers import he_normal\n",
    "from tensorflow.keras.optimizers import Adam\n",
    "from tensorflow.keras.utils import to_categorical\n",
    "from prettytable import PrettyTable"
   ]
  },
  {
   "cell_type": "code",
   "execution_count": null,
   "metadata": {
    "execution": {
     "iopub.execute_input": "2022-07-23T13:07:16.224564Z",
     "iopub.status.busy": "2022-07-23T13:07:16.223897Z",
     "iopub.status.idle": "2022-07-23T13:07:18.415282Z",
     "shell.execute_reply": "2022-07-23T13:07:18.414400Z",
     "shell.execute_reply.started": "2022-07-23T13:07:16.224524Z"
    }
   },
   "outputs": [],
   "source": [
    "data=pd.read_csv(\"../input/sarcasm/train-balanced-sarcasm.csv\",nrows=300000)\n",
    "data.shape"
   ]
  },
  {
   "cell_type": "code",
   "execution_count": null,
   "metadata": {},
   "outputs": [],
   "source": [
    "data.head(5)"
   ]
  },
  {
   "cell_type": "markdown",
   "metadata": {},
   "source": [
    "## Data Cleaning"
   ]
  },
  {
   "cell_type": "markdown",
   "metadata": {},
   "source": [
    "label 1 is sarcastic and label 0 is not sarcastic"
   ]
  },
  {
   "cell_type": "markdown",
   "metadata": {},
   "source": [
    "Counting the null values"
   ]
  },
  {
   "cell_type": "code",
   "execution_count": null,
   "metadata": {},
   "outputs": [],
   "source": [
    "null_values=data.isna().sum()\n",
    "print(null_values)"
   ]
  },
  {
   "cell_type": "markdown",
   "metadata": {},
   "source": [
    "The comment column has 53 null values.We have dropped that values"
   ]
  },
  {
   "cell_type": "code",
   "execution_count": null,
   "metadata": {},
   "outputs": [],
   "source": [
    "data=data.dropna()\n",
    "data.isna().sum()"
   ]
  },
  {
   "cell_type": "markdown",
   "metadata": {},
   "source": [
    "Checking duplicate values"
   ]
  },
  {
   "cell_type": "code",
   "execution_count": null,
   "metadata": {},
   "outputs": [],
   "source": [
    "duplicate_values=data[data.duplicated()]\n",
    "print(\"duplicate rows in the dataset\",len(duplicate_values))\n",
    "data.drop_duplicates(keep='first',inplace=True)"
   ]
  },
  {
   "cell_type": "markdown",
   "metadata": {},
   "source": [
    "We can see that the score column has some erroneous values.\n",
    "\n",
    "The score column is calculated as:Score=number of upvotes(ups)-number of downvotes(down)"
   ]
  },
  {
   "cell_type": "code",
   "execution_count": null,
   "metadata": {},
   "outputs": [],
   "source": [
    "data['score']=data['ups']-data['downs']"
   ]
  },
  {
   "cell_type": "markdown",
   "metadata": {},
   "source": [
    "## Exploratory Data Analysis"
   ]
  },
  {
   "cell_type": "code",
   "execution_count": null,
   "metadata": {},
   "outputs": [],
   "source": [
    "counts=data['label']\n",
    "sns.countplot(x=counts)\n",
    "plt.show()"
   ]
  },
  {
   "cell_type": "markdown",
   "metadata": {},
   "source": [
    "We can see that our dataset is balanced as it has almost equal number of class labels"
   ]
  },
  {
   "cell_type": "code",
   "execution_count": null,
   "metadata": {},
   "outputs": [],
   "source": [
    "data.head(5)"
   ]
  },
  {
   "cell_type": "code",
   "execution_count": null,
   "metadata": {},
   "outputs": [],
   "source": [
    "data.shape"
   ]
  },
  {
   "cell_type": "markdown",
   "metadata": {},
   "source": [
    "## Preprocessing text data for EDA"
   ]
  },
  {
   "cell_type": "code",
   "execution_count": null,
   "metadata": {},
   "outputs": [],
   "source": [
    "# slangs\n",
    "strings='''AFAIK=As Far As I Know\n",
    "AFK=Away From Keyboard\n",
    "ASAP=As Soon As Possible\n",
    "ATK=At The Keyboard\n",
    "ATM=At The Moment\n",
    "A3=Anytime, Anywhere, Anyplace\n",
    "BAK=Back At Keyboard\n",
    "BBL=Be Back Later\n",
    "BBS=Be Back Soon\n",
    "BFN=Bye For Now\n",
    "B4N=Bye For Now\n",
    "BRB=Be Right Back\n",
    "BRT=Be Right There\n",
    "BTW=By The Way\n",
    "B4=Before\n",
    "B4N=Bye For Now\n",
    "CU=See You\n",
    "CUL8R=See You Later\n",
    "CYA=See You\n",
    "FAQ=Frequently Asked Questions\n",
    "FC=Fingers Crossed\n",
    "FWIW=For What It's Worth\n",
    "FYI=For Your Information\n",
    "GAL=Get A Life\n",
    "GG=Good Game\n",
    "GN=Good Night\n",
    "GMTA=Great Minds Think Alike\n",
    "GR8=Great!\n",
    "G9=Genius\n",
    "IC=I See\n",
    "ICQ=I Seek you (also a chat program)\n",
    "ILU=ILU: I Love You\n",
    "IMHO=In My Honest/Humble Opinion\n",
    "IMO=In My Opinion\n",
    "IOW=In Other Words\n",
    "IRL=In Real Life\n",
    "KISS=Keep It Simple, Stupid\n",
    "LDR=Long Distance Relationship\n",
    "LMAO=Laugh My A.. Off\n",
    "LOL=Laughing Out Loud\n",
    "LTNS=Long Time No See\n",
    "L8R=Later\n",
    "MTE=My Thoughts Exactly\n",
    "M8=Mate\n",
    "NRN=No Reply Necessary\n",
    "OIC=Oh I See\n",
    "PITA=Pain In The A..\n",
    "PRT=Party\n",
    "PRW=Parents Are Watching\n",
    "QPSA?=Que Pasa?\n",
    "ROFL=Rolling On The Floor Laughing\n",
    "ROFLOL=Rolling On The Floor Laughing Out Loud\n",
    "ROTFLMAO=Rolling On The Floor Laughing My A.. Off\n",
    "SK8=Skate\n",
    "STATS=Your sex and age\n",
    "ASL=Age, Sex, Location\n",
    "THX=Thank You\n",
    "TTFN=Ta-Ta For Now!\n",
    "TTYL=Talk To You Later\n",
    "U=You\n",
    "U2=You Too\n",
    "U4E=Yours For Ever\n",
    "WB=Welcome Back\n",
    "WTF=What The F...\n",
    "WTG=Way To Go!\n",
    "WUF=Where Are You From?\n",
    "W8=Wait...\n",
    "7K=Sick:-D Laugher'''"
   ]
  },
  {
   "cell_type": "code",
   "execution_count": null,
   "metadata": {},
   "outputs": [],
   "source": [
    "x1=strings.split(\"\\n\")\n",
    "dict1={}\n",
    "for i in x1:\n",
    "    x2=(i.split(\"=\"))\n",
    "    dict1[x2[0]]=x2[1]\n",
    "print(dict1)"
   ]
  },
  {
   "cell_type": "code",
   "execution_count": null,
   "metadata": {},
   "outputs": [],
   "source": [
    "def chat(text):\n",
    "    new_text=[]\n",
    "    for word in text.split():\n",
    "        if word.upper() in dict1:\n",
    "            new_text.append(dict1[word.upper()])\n",
    "        else:\n",
    "            new_text.append(word)\n",
    "            \n",
    "    done=\" \".join(new_text)\n",
    "\n",
    "            \n",
    "    return done\n",
    "            "
   ]
  },
  {
   "cell_type": "code",
   "execution_count": null,
   "metadata": {},
   "outputs": [],
   "source": [
    "data['comment']=data['comment'].apply(chat)"
   ]
  },
  {
   "cell_type": "code",
   "execution_count": null,
   "metadata": {},
   "outputs": [],
   "source": [
    "#decontract words\n",
    "def decontracted(phrase):\n",
    "    \n",
    "    # specific\n",
    "    phrase = re.sub(r\"won\\'t\", \"will not\", phrase)\n",
    "    phrase = re.sub(r\"can\\'t\", \"can not\", phrase)\n",
    "\n",
    "    # general\n",
    "    phrase = re.sub(r\"n\\'t\", \" not\", phrase)\n",
    "    phrase = re.sub(r\"\\'re\", \" are\", phrase)\n",
    "    phrase = re.sub(r\"\\'s\", \" is\", phrase)\n",
    "    phrase = re.sub(r\"\\'d\", \" would\", phrase)\n",
    "    phrase = re.sub(r\"\\'ll\", \" will\", phrase)\n",
    "    phrase = re.sub(r\"\\'t\", \" not\", phrase)\n",
    "    phrase = re.sub(r\"\\'ve\", \" have\", phrase)\n",
    "    phrase = re.sub(r\"\\'m\", \" am\", phrase)\n",
    "    \n",
    "    return phrase"
   ]
  },
  {
   "cell_type": "code",
   "execution_count": null,
   "metadata": {},
   "outputs": [],
   "source": [
    "data['comment']=data['comment'].apply(decontracted)"
   ]
  },
  {
   "cell_type": "code",
   "execution_count": null,
   "metadata": {},
   "outputs": [],
   "source": [
    "# lower case\n",
    "data['comment']=data['comment'].str.lower()"
   ]
  },
  {
   "cell_type": "code",
   "execution_count": null,
   "metadata": {},
   "outputs": [],
   "source": [
    "# removing stopwords\n",
    "\n",
    "# we have removed stopwords like no,not,nor.\n",
    "stop_words=[\"i\", \"me\", \"my\", \"myself\", \"we\", \"our\", \"ours\", \"ourselves\", \"you\", \"your\", \"yours\", \"yourself\", \n",
    "            \"yourselves\", \"he\", \"him\", \"his\", \"himself\", \"she\", \"her\", \"hers\", \"herself\", \"it\", \"its\", \n",
    "            \"itself\", \"they\", \"them\", \"their\", \"theirs\", \"themselves\", \"what\", \"which\", \"who\", \"whom\", \n",
    "            \"this\", \"that\", \"these\", \"those\", \"am\", \"is\", \"are\", \"was\", \"were\", \"be\", \"been\", \"being\",\n",
    "            \"have\", \"has\", \"had\", \"having\", \"do\", \"does\", \"did\", \"doing\", \"a\", \"an\", \"the\", \"and\", \"but\",\n",
    "            \"if\", \"or\", \"because\", \"as\", \"until\", \"while\", \"of\", \"at\", \"by\", \"for\", \"with\", \"about\", \n",
    "            \"against\", \"between\", \"into\", \"through\", \"during\", \"before\", \"after\", \"above\", \"below\", \"to\", \n",
    "            \"from\", \"up\", \"down\", \"in\", \"out\", \"on\", \"off\", \"over\", \"under\", \"again\", \"further\", \"then\", \n",
    "            \"once\", \"here\", \"there\", \"when\", \"where\", \"why\", \"how\", \"all\", \"any\", \"both\", \"each\", \"few\",\n",
    "            \"more\", \"most\", \"other\", \"some\", \"such\" \"only\", \"own\", \"same\", \"so\", \"than\", \"too\", \"very\", \n",
    "            \"s\", \"t\", \"can\", \"will\", \"just\", \"don\", \"should\", \"now\"]"
   ]
  },
  {
   "cell_type": "code",
   "execution_count": null,
   "metadata": {},
   "outputs": [],
   "source": [
    "def stopwords1(text):\n",
    "    new_list=[]\n",
    "    for word in text.split():\n",
    "        if word in stop_words:\n",
    "            new_list.append(\"\")\n",
    "        else:\n",
    "            new_list.append(word)\n",
    "\n",
    "    done=list(filter(None,new_list))\n",
    "    done=\" \".join(done)\n",
    "    \n",
    "    return done"
   ]
  },
  {
   "cell_type": "code",
   "execution_count": null,
   "metadata": {},
   "outputs": [],
   "source": [
    "data['comment']=data['comment'].apply(stopwords1)"
   ]
  },
  {
   "cell_type": "code",
   "execution_count": null,
   "metadata": {},
   "outputs": [],
   "source": [
    "# remove html tags\n",
    "def remove_html(text):\n",
    "    return re.sub(r'<.*?>',\"\",text)"
   ]
  },
  {
   "cell_type": "code",
   "execution_count": null,
   "metadata": {},
   "outputs": [],
   "source": [
    "data['comment']=data['comment'].apply(remove_html)"
   ]
  },
  {
   "cell_type": "code",
   "execution_count": null,
   "metadata": {},
   "outputs": [],
   "source": [
    "# removing digits\n",
    "def remove_numbers(text):\n",
    "    return re.sub(\"\\d+\", \"\", text)\n",
    "      "
   ]
  },
  {
   "cell_type": "code",
   "execution_count": null,
   "metadata": {},
   "outputs": [],
   "source": [
    "data['comment']=data['comment'].apply(remove_numbers)"
   ]
  },
  {
   "cell_type": "markdown",
   "metadata": {},
   "source": [
    "We haven't removed exclamation mark and question mark as sarcastic comments has exclamation mark in them"
   ]
  },
  {
   "cell_type": "code",
   "execution_count": null,
   "metadata": {},
   "outputs": [],
   "source": [
    "string1=string.punctuation\n",
    "string1=list(string1)\n",
    "string1.remove('!')\n",
    "string1.remove('?')\n",
    "print(string1)"
   ]
  },
  {
   "cell_type": "code",
   "execution_count": null,
   "metadata": {},
   "outputs": [],
   "source": [
    "def remove_punctuation(data):\n",
    "    for char in string1:\n",
    "        if char in data:\n",
    "            data=data.replace(char,\" \")\n",
    "    return data"
   ]
  },
  {
   "cell_type": "code",
   "execution_count": null,
   "metadata": {},
   "outputs": [],
   "source": [
    "data['comment']=data['comment'].apply(remove_punctuation)"
   ]
  },
  {
   "cell_type": "markdown",
   "metadata": {},
   "source": [
    "## Converting dataframes according to class label"
   ]
  },
  {
   "cell_type": "code",
   "execution_count": null,
   "metadata": {},
   "outputs": [],
   "source": [
    "data_sarcasm=data[data['label']==1]\n",
    "data_non_sarcasm=data[data['label']==0]\n",
    "\n",
    "print((data_sarcasm.shape),data_non_sarcasm.shape)"
   ]
  },
  {
   "cell_type": "markdown",
   "metadata": {},
   "source": [
    "Authors"
   ]
  },
  {
   "cell_type": "markdown",
   "metadata": {},
   "source": [
    "Some authors have a definite style of writing. We call it as stylometric and personality feature.\n",
    "\n",
    "The idea here is if sarcastic commments can be judged by the nature of individual.\n",
    "\n",
    "We will see what set of people have written most sarcastic comments."
   ]
  },
  {
   "cell_type": "code",
   "execution_count": null,
   "metadata": {},
   "outputs": [],
   "source": [
    "author_counts_sarcasm=data_sarcasm['author'].value_counts()[:20]\n",
    "plt.figure(figsize=(6,6))\n",
    "sns.barplot(x=author_counts_sarcasm,y=author_counts_sarcasm.index,data=data_sarcasm)\n",
    "plt.show()"
   ]
  },
  {
   "cell_type": "code",
   "execution_count": null,
   "metadata": {},
   "outputs": [],
   "source": [
    "author_counts_non_sarcasm=data_non_sarcasm['author'].value_counts()[:20]\n",
    "plt.figure(figsize=(6,6))\n",
    "sns.barplot(x=author_counts_non_sarcasm,y=author_counts_non_sarcasm.index,data=data_non_sarcasm)\n",
    "plt.show()"
   ]
  },
  {
   "cell_type": "markdown",
   "metadata": {},
   "source": [
    "We can see that for both the labels the writer is almost same.\n"
   ]
  },
  {
   "cell_type": "markdown",
   "metadata": {},
   "source": [
    "Subreddit"
   ]
  },
  {
   "cell_type": "code",
   "execution_count": null,
   "metadata": {},
   "outputs": [],
   "source": [
    "subreddidt_sarcasm=data_sarcasm['subreddit'].value_counts()[:20]\n",
    "plt.figure(figsize=(6,6))\n",
    "sns.barplot(x=subreddidt_sarcasm,y=subreddidt_sarcasm.index,data=data_sarcasm)\n",
    "plt.show()"
   ]
  },
  {
   "cell_type": "code",
   "execution_count": null,
   "metadata": {},
   "outputs": [],
   "source": [
    "subreddidt_non_sarcasm=data_non_sarcasm['subreddit'].value_counts()[:20]\n",
    "plt.figure(figsize=(6,6))\n",
    "sns.barplot(x=subreddidt_non_sarcasm,y=subreddidt_non_sarcasm.index,data=data_non_sarcasm)\n",
    "plt.show()"
   ]
  },
  {
   "cell_type": "markdown",
   "metadata": {},
   "source": [
    "From above cells we can see that the topics for which sarcastic and non sarcastic comments are made are almost for same topics.\n",
    "\n",
    "The politics category got the most sarcastic and non sarcastic comments."
   ]
  },
  {
   "cell_type": "code",
   "execution_count": null,
   "metadata": {},
   "outputs": [],
   "source": [
    "words=\"\"\n",
    "for sentence in data_sarcasm['comment']:\n",
    "    tokens=(sentence.split())\n",
    "    for i in range(len(tokens)):\n",
    "        tokens[i]=tokens[i].lower()\n",
    "    words +=\" \".join(tokens)+\" \"\n",
    "    \n",
    "wordcloud = WordCloud(width = 800, height = 800,\n",
    "                background_color ='white',\n",
    "                stopwords = stop_words,\n",
    "                min_font_size = 10).generate(words)\n",
    "\n",
    "    # plot the WordCloud image                      \n",
    "plt.figure(figsize = (6,6), facecolor = None)\n",
    "plt.imshow(wordcloud)\n",
    "plt.axis(\"off\")\n",
    "plt.tight_layout(pad = 0)\n",
    " \n",
    "plt.show()\n"
   ]
  },
  {
   "cell_type": "code",
   "execution_count": null,
   "metadata": {},
   "outputs": [],
   "source": [
    "words=\"\"\n",
    "for sentence in data_non_sarcasm['comment']:\n",
    "    tokens=(sentence.split())\n",
    "    for i in range(len(tokens)):\n",
    "        tokens[i]=tokens[i].lower()\n",
    "    words +=\" \".join(tokens)+\" \"\n",
    "    \n",
    "wordcloud = WordCloud(width = 800, height = 800,\n",
    "                background_color ='white',\n",
    "                stopwords = stop_words,\n",
    "                min_font_size = 10).generate(words)\n",
    "\n",
    "    # plot the WordCloud image                      \n",
    "plt.figure(figsize = (6,6), facecolor = None)\n",
    "plt.imshow(wordcloud)\n",
    "plt.axis(\"off\")\n",
    "plt.tight_layout(pad = 0)\n",
    " \n",
    "plt.show()"
   ]
  },
  {
   "cell_type": "markdown",
   "metadata": {},
   "source": [
    "From the above word cloud we can say that the words like(not,no,would,yeah etc) appears in both sarcastic and non sarcastic comments."
   ]
  },
  {
   "cell_type": "markdown",
   "metadata": {},
   "source": [
    "Average word length"
   ]
  },
  {
   "cell_type": "code",
   "execution_count": null,
   "metadata": {},
   "outputs": [],
   "source": [
    "def average_word_length(text):\n",
    "    list2=[]\n",
    "    for sentence in text:\n",
    "        count=len(sentence)\n",
    "        list2.append(count)\n",
    "    avg_word_length=sum(list2)/len(text)\n",
    "    \n",
    "    return avg_word_length\n",
    "    "
   ]
  },
  {
   "cell_type": "code",
   "execution_count": null,
   "metadata": {},
   "outputs": [],
   "source": [
    "print(\"average word length of sarcastic comments is\",average_word_length(data_sarcasm['comment']))\n",
    "print(\"average word length of non sarcastic comments is\",average_word_length(data_non_sarcasm['comment']))"
   ]
  },
  {
   "cell_type": "markdown",
   "metadata": {},
   "source": [
    "There is no diiference in average word length pf sarcastic and non sarcastic comments"
   ]
  },
  {
   "cell_type": "markdown",
   "metadata": {},
   "source": [
    "Average sentence length"
   ]
  },
  {
   "cell_type": "code",
   "execution_count": null,
   "metadata": {},
   "outputs": [],
   "source": [
    "def average_senetnce_length(text):\n",
    "    sum1=0\n",
    "    for sentence in text:\n",
    "        count=len(sentence.split())\n",
    "        sum1=sum1+count\n",
    "        \n",
    "    return (sum1/len(text))"
   ]
  },
  {
   "cell_type": "code",
   "execution_count": null,
   "metadata": {},
   "outputs": [],
   "source": [
    "print(\"average word length of sarcastic comments is\",average_senetnce_length(data_sarcasm['comment']))\n",
    "print(\"average word length of non sarcastic comments is\",average_senetnce_length(data_non_sarcasm['comment']))"
   ]
  },
  {
   "cell_type": "markdown",
   "metadata": {},
   "source": [
    "There is no difference in between sentence length of sarcastic and non sarcastic comments"
   ]
  },
  {
   "cell_type": "code",
   "execution_count": null,
   "metadata": {},
   "outputs": [],
   "source": [
    "def frequent_top_words(dataframe):\n",
    "    top_words=20\n",
    "    frequent_words=dataframe.str.cat(sep=\"\")\n",
    "    words=nltk.word_tokenize(frequent_words)\n",
    "    frequency_disb=nltk.FreqDist(words)\n",
    "    \n",
    "    return frequency_disb.most_common(top_words)\n",
    "    "
   ]
  },
  {
   "cell_type": "code",
   "execution_count": null,
   "metadata": {},
   "outputs": [],
   "source": [
    "freq_sarcasm=frequent_top_words(data_sarcasm['comment'])\n",
    "list1,list2=[],[]\n",
    "for i,j in (freq_sarcasm):\n",
    "    list1.append(i)\n",
    "    list2.append(j)\n",
    "\n",
    "plt.figure(figsize=(8,6))\n",
    "sns.barplot(y=list1,x=list2)\n",
    "plt.show()"
   ]
  },
  {
   "cell_type": "code",
   "execution_count": null,
   "metadata": {},
   "outputs": [],
   "source": [
    "freq_non_sarcasm=frequent_top_words(data_non_sarcasm['comment'])\n",
    "list1,list2=[],[]\n",
    "for i,j in (freq_non_sarcasm):\n",
    "    list1.append(i)\n",
    "    list2.append(j)\n",
    "\n",
    "plt.figure(figsize=(8,6))\n",
    "sns.barplot(y=list1,x=list2)\n",
    "plt.show()"
   ]
  },
  {
   "cell_type": "markdown",
   "metadata": {},
   "source": [
    "The top 20 words are somewhat same for both sarcastic and non sarcastic comments"
   ]
  },
  {
   "cell_type": "code",
   "execution_count": null,
   "metadata": {},
   "outputs": [],
   "source": [
    "def count_exclamation(text):\n",
    "    sum1=0\n",
    "    for i in text:\n",
    "        if '!' in i:\n",
    "            sum1=sum1+1\n",
    "    return sum1"
   ]
  },
  {
   "cell_type": "code",
   "execution_count": null,
   "metadata": {},
   "outputs": [],
   "source": [
    "print(\"number of sarcasm_exclamation is\",count_exclamation(data_sarcasm['comment']))\n",
    "print(\"number of non_sarcasm_exclamation is\",count_exclamation(data_non_sarcasm['comment']))"
   ]
  },
  {
   "cell_type": "markdown",
   "metadata": {},
   "source": [
    "We can see there is vast difference in exclamation mark in sarcastic and non sarcastic comments.\n",
    "\n",
    "Exclamation mark can be a good feature for differntiating between sarcastic and non sarcastic comments."
   ]
  },
  {
   "cell_type": "code",
   "execution_count": null,
   "metadata": {},
   "outputs": [],
   "source": [
    "def count_question(text):\n",
    "    sum1=0\n",
    "    for i in text:\n",
    "        if '?' in i:\n",
    "            sum1=sum1+1\n",
    "    return sum1"
   ]
  },
  {
   "cell_type": "code",
   "execution_count": null,
   "metadata": {},
   "outputs": [],
   "source": [
    "print(\"number of sarcasm_question is\",count_question(data_sarcasm['comment']))\n",
    "print(\"number of non_sarcasm_question is\",count_question(data_non_sarcasm['comment']))"
   ]
  },
  {
   "cell_type": "markdown",
   "metadata": {},
   "source": [
    "We can see there is small difference in question mark in sarcastic and non sarcastic comments.\n",
    "\n",
    "Question mark can be a feature for differntiating between sarcastic and non sarcastic comments."
   ]
  },
  {
   "cell_type": "markdown",
   "metadata": {},
   "source": [
    "## Univariate Analysis"
   ]
  },
  {
   "cell_type": "markdown",
   "metadata": {},
   "source": [
    "Score column analysis"
   ]
  },
  {
   "cell_type": "code",
   "execution_count": null,
   "metadata": {},
   "outputs": [],
   "source": [
    "# code taken from the iris EDA\n",
    "\n",
    "sns.FacetGrid(data, hue=\"label\", size=5) \\\n",
    "   .map(sns.distplot, \"score\") \\\n",
    "   .add_legend();\n",
    "plt.show();"
   ]
  },
  {
   "cell_type": "markdown",
   "metadata": {},
   "source": [
    "We can see that score are overlapping for both sarcastic and non sarcastic comments.\n",
    "\n",
    "We can see that scores are 0 for most of the datapoints in both labels."
   ]
  },
  {
   "cell_type": "markdown",
   "metadata": {},
   "source": [
    "Upvote column analaysis"
   ]
  },
  {
   "cell_type": "code",
   "execution_count": null,
   "metadata": {},
   "outputs": [],
   "source": [
    "sns.FacetGrid(data, hue=\"label\", size=5) \\\n",
    "   .map(sns.distplot, \"ups\") \\\n",
    "   .add_legend();\n",
    "plt.show()"
   ]
  },
  {
   "cell_type": "markdown",
   "metadata": {},
   "source": [
    "We can see that upvotes for sarcastic is 4000 and for non sarcastic it is 5000\n",
    "\n",
    "Most of the upvotes are overlapping to each other"
   ]
  },
  {
   "cell_type": "markdown",
   "metadata": {},
   "source": [
    "Downvote column analysis"
   ]
  },
  {
   "cell_type": "code",
   "execution_count": null,
   "metadata": {},
   "outputs": [],
   "source": [
    "sns.FacetGrid(data, hue=\"label\", size=5) \\\n",
    "   .map(sns.distplot, \"downs\") \\\n",
    "   .add_legend();\n",
    "plt.show();"
   ]
  },
  {
   "cell_type": "markdown",
   "metadata": {},
   "source": [
    "We can see that there is some negative value for both class labels.It means people have downvoted comment they don't like.\n",
    "\n",
    "There is overlapping for both sarcastic comments and non sarcastic comments."
   ]
  },
  {
   "cell_type": "markdown",
   "metadata": {},
   "source": [
    "## Basic Modelling"
   ]
  },
  {
   "cell_type": "code",
   "execution_count": null,
   "metadata": {},
   "outputs": [],
   "source": [
    "data_basic=data.drop(['author','score','ups','downs','date','created_utc','parent_comment','subreddit'],axis=1)\n",
    "# data_basic['exclamation_mark']=data_exclamation\n",
    "# data_basic['question_mark']=data_question_mark"
   ]
  },
  {
   "cell_type": "code",
   "execution_count": null,
   "metadata": {},
   "outputs": [],
   "source": [
    "y=data_basic['label']\n",
    "X=data_basic.drop(['label'],axis=1)"
   ]
  },
  {
   "cell_type": "code",
   "execution_count": null,
   "metadata": {},
   "outputs": [],
   "source": [
    "X_train,X_test,y_train,y_test=train_test_split(X,y,stratify=y,random_state=42,test_size=0.3,shuffle=True)\n",
    "print((X_train.shape),y_train.shape)\n",
    "print((X_test.shape),y_test.shape)"
   ]
  },
  {
   "cell_type": "code",
   "execution_count": null,
   "metadata": {},
   "outputs": [],
   "source": [
    "# training dataset"
   ]
  },
  {
   "cell_type": "code",
   "execution_count": null,
   "metadata": {},
   "outputs": [],
   "source": [
    "tokenizer=Tokenizer(num_words=40000,filters='!\"#$%&()*+,-./:;<=>?@[\\\\]^_`{|}~\\t\\n',oov_token='<OOV>')\n",
    "tokenizer.fit_on_texts(list(X_train['comment']))\n",
    "x_train=tokenizer.texts_to_sequences(X_train['comment'])\n",
    "maxlen = 100\n",
    "print(maxlen)\n",
    "word_index=tokenizer.word_index\n",
    "print(len(word_index)+1)\n",
    "\n",
    "padded_sequences_train=pad_sequences(x_train,maxlen=maxlen,padding='post',truncating='post')"
   ]
  },
  {
   "cell_type": "code",
   "execution_count": null,
   "metadata": {},
   "outputs": [],
   "source": [
    "# testing dataset\n",
    "\n",
    "x_test=tokenizer.texts_to_sequences(X_test['comment'])\n",
    "padded_sequences_test=pad_sequences(x_test,maxlen=maxlen,padding='post',truncating='post')"
   ]
  },
  {
   "cell_type": "code",
   "execution_count": null,
   "metadata": {},
   "outputs": [],
   "source": [
    "print((padded_sequences_train.shape),padded_sequences_test.shape)"
   ]
  },
  {
   "cell_type": "code",
   "execution_count": null,
   "metadata": {},
   "outputs": [],
   "source": [
    "path_to_glove_file = r'../input/facebook/crawl-300d-2M.vec'\n",
    "\n",
    "# https://keras.io/examples/nlp/pretrained_word_embeddings/\n",
    "\n",
    "embeddings_index = {}\n",
    "with open(path_to_glove_file,encoding='utf-8') as f:\n",
    "    for line in f:\n",
    "        word, coefs = line.split(maxsplit=1)\n",
    "        coefs = np.fromstring(coefs, \"f\", sep=\" \")\n",
    "        embeddings_index[word] = coefs\n",
    "        \n",
    "        \n",
    "print(\"Found %s word vectors.\" % len(embeddings_index))"
   ]
  },
  {
   "cell_type": "code",
   "execution_count": null,
   "metadata": {},
   "outputs": [],
   "source": [
    "num_tokens = len(tokenizer.word_index)+1\n",
    "embedding_dim = 300\n",
    "hits = 0\n",
    "misses = 0\n",
    "\n",
    "# Prepare embedding matrix\n",
    "embedding_matrix = np.zeros((num_tokens, embedding_dim))\n",
    "for word, i in word_index.items():\n",
    "    embedding_vector = embeddings_index.get(word)\n",
    "    if embedding_vector is not None:\n",
    "        # Words not found in embedding index will be all-zeros.\n",
    "        # This includes the representation for \"padding\" and \"OOV\"\n",
    "        embedding_matrix[i] = embedding_vector\n",
    "        hits += 1\n",
    "    else:\n",
    "        misses += 1\n",
    "print(\"Converted %d words (%d misses)\" % (hits, misses))"
   ]
  },
  {
   "cell_type": "code",
   "execution_count": null,
   "metadata": {},
   "outputs": [],
   "source": [
    "print(embedding_matrix.shape)\n",
    "\n",
    "vocab_size=len(tokenizer.word_index)+1\n",
    "print(vocab_size)"
   ]
  },
  {
   "cell_type": "markdown",
   "metadata": {},
   "source": [
    "## Basic Model 1"
   ]
  },
  {
   "cell_type": "code",
   "execution_count": null,
   "metadata": {},
   "outputs": [],
   "source": [
    "from keras.initializers import he_normal\n",
    "from tensorflow.keras.optimizers import Adam"
   ]
  },
  {
   "cell_type": "code",
   "execution_count": null,
   "metadata": {},
   "outputs": [],
   "source": [
    "input_layer=Input(shape=(maxlen))\n",
    "embedding_layer=Embedding(input_dim=vocab_size, output_dim=300,weights=[embedding_matrix],trainable=False)(input_layer)\n",
    "lstm_layer=Bidirectional(LSTM(64,return_sequences=True))(embedding_layer)\n",
    "drop=Dropout(0.4)(lstm_layer)\n",
    "lstm_layer1=Bidirectional(LSTM(64,return_sequences=True))(drop)\n",
    "drop2=Dropout(0.4)(lstm_layer1)\n",
    "flatten_layer=Flatten()(drop2)\n",
    "dense_layer1=Dense(256,activation='relu',kernel_initializer=he_normal())(flatten_layer)\n",
    "drop3=Dropout(0.4)(dense_layer1)\n",
    "flatten_layer1=Flatten()(drop3)\n",
    "dense_layer3=Dense(32,activation='relu',kernel_initializer=he_normal())(flatten_layer1)\n",
    "output_layer=Dense(1,activation='sigmoid')(dense_layer3)\n",
    "\n",
    "model=Model(input_layer,output_layer)\n",
    "\n",
    "model.compile(loss='binary_crossentropy',optimizer=Adam(lr=0.0001),metrics=['accuracy'])\n",
    "model.summary()"
   ]
  },
  {
   "cell_type": "code",
   "execution_count": null,
   "metadata": {},
   "outputs": [],
   "source": [
    "print(padded_sequences_train.shape)\n",
    "print(padded_sequences_test.shape)\n",
    "print(y_train.shape)\n",
    "print(y_test.shape)"
   ]
  },
  {
   "cell_type": "code",
   "execution_count": null,
   "metadata": {},
   "outputs": [],
   "source": [
    "y_train=np.asarray(y_train)\n",
    "y_test=np.asarray(y_test)\n",
    "\n"
   ]
  },
  {
   "cell_type": "code",
   "execution_count": null,
   "metadata": {},
   "outputs": [],
   "source": [
    "earlystop=EarlyStopping(monitor='val_loss',verbose=1,patience=3,min_delta=0.35)\n",
    "\n",
    "model.fit(padded_sequences_train,y_train,epochs=15,verbose=1,batch_size=512,\n",
    "         validation_data=(padded_sequences_test,y_test),callbacks=[earlystop])"
   ]
  },
  {
   "cell_type": "markdown",
   "metadata": {},
   "source": [
    "## Feature Enginnering"
   ]
  },
  {
   "cell_type": "code",
   "execution_count": null,
   "metadata": {},
   "outputs": [],
   "source": [
    "def profanity_words(text):\n",
    "    list1=[]\n",
    "    for sentence in tqdm(text):\n",
    "        profane_word=profanity.contains_profanity(sentence)\n",
    "        list1.append(profane_word)\n",
    "        \n",
    "    return list1"
   ]
  },
  {
   "cell_type": "code",
   "execution_count": null,
   "metadata": {},
   "outputs": [],
   "source": [
    "data_profanity_words=profanity_words(data['comment'])\n",
    "# 100%|██████████| 1010745/1010745 [5:13:11<00:00, 53.79it/s]"
   ]
  },
  {
   "cell_type": "code",
   "execution_count": null,
   "metadata": {},
   "outputs": [],
   "source": [
    "data_profane=pd.DataFrame(data_profanity_words)\n",
    "data_profane.to_csv('data_profaned.csv')"
   ]
  },
  {
   "cell_type": "code",
   "execution_count": null,
   "metadata": {},
   "outputs": [],
   "source": [
    "def sentiment_subjectivity(text):\n",
    "    list1=[]\n",
    "    for sentence in tqdm(text):\n",
    "        subjectivity=TextBlob(sentence).sentiment.subjectivity\n",
    "        list1.append(subjectivity)\n",
    "    return list1"
   ]
  },
  {
   "cell_type": "code",
   "execution_count": null,
   "metadata": {},
   "outputs": [],
   "source": [
    "data_sentiment_subj=(sentiment_subjectivity(data['comment']))"
   ]
  },
  {
   "cell_type": "code",
   "execution_count": null,
   "metadata": {},
   "outputs": [],
   "source": [
    "data_senti=pd.DataFrame(data_sentiment_subj)\n",
    "data_senti.to_csv('data_sentiment_subj.csv')"
   ]
  },
  {
   "cell_type": "code",
   "execution_count": null,
   "metadata": {},
   "outputs": [],
   "source": [
    "def sentiment_intensity(text):\n",
    "    neg_list,pos_list,neutral_list=[],[],[]\n",
    "    for sentence in tqdm(text):\n",
    "        sentiment_object= SentimentIntensityAnalyzer()\n",
    "        polarity_scores=sentiment_object.polarity_scores(sentence)\n",
    "        \n",
    "        neg_list.append(polarity_scores['neg'])\n",
    "        pos_list.append(polarity_scores['pos'])\n",
    "        neutral_list.append(polarity_scores['neu'])\n",
    "        \n",
    "    return neg_list,pos_list,neutral_list\n",
    "        \n",
    "    "
   ]
  },
  {
   "cell_type": "code",
   "execution_count": null,
   "metadata": {},
   "outputs": [],
   "source": [
    "data_pos,data_neg,data_neu=sentiment_intensity(data['comment'])"
   ]
  },
  {
   "cell_type": "code",
   "execution_count": null,
   "metadata": {},
   "outputs": [],
   "source": [
    "# data_positive=pd.DataFrame(data_pos)\n",
    "# data_positive.to_csv('data_positive.csv')\n",
    "\n",
    "# data_negative=pd.DataFrame(data_neg)\n",
    "# data_negative.to_csv('data_neagtive.csv')\n",
    "\n",
    "# data_neutral=pd.DataFrame(data_neu)\n",
    "# data_neutral.to_csv('data_neutral.csv')"
   ]
  },
  {
   "cell_type": "code",
   "execution_count": null,
   "metadata": {},
   "outputs": [],
   "source": [
    "## Exclamation mark\n",
    "\n",
    "def count_exclamation(text):\n",
    "    list1=[]\n",
    "    for i in text:\n",
    "        if '!' in i:\n",
    "            list1.append(1)\n",
    "        else:\n",
    "            list1.append(0)\n",
    "            \n",
    "    return list1"
   ]
  },
  {
   "cell_type": "code",
   "execution_count": null,
   "metadata": {},
   "outputs": [],
   "source": [
    "data_exclamation=count_exclamation(data['comment'])"
   ]
  },
  {
   "cell_type": "code",
   "execution_count": null,
   "metadata": {},
   "outputs": [],
   "source": [
    "## question mark\n",
    "\n",
    "def count_question(text):\n",
    "    list1=[]\n",
    "    for i in text:\n",
    "        if '?' in i:\n",
    "            list1.append(1)\n",
    "        else:\n",
    "            list1.append(0)\n",
    "            \n",
    "    return list1"
   ]
  },
  {
   "cell_type": "code",
   "execution_count": null,
   "metadata": {},
   "outputs": [],
   "source": [
    "data_question_mark=count_question(data['comment'])"
   ]
  },
  {
   "cell_type": "code",
   "execution_count": null,
   "metadata": {},
   "outputs": [],
   "source": [
    "author_dict={}\n",
    "author_names=list(data['author'].unique())\n",
    "print(author_names[0:6])"
   ]
  },
  {
   "cell_type": "code",
   "execution_count": null,
   "metadata": {},
   "outputs": [],
   "source": [
    "for i in tqdm(author_names):\n",
    "    mask=data['author']==i\n",
    "    string1=(data[mask].comment)\n",
    "    string1=\"\".join(string1)\n",
    "    author_dict[i]=string1\n"
   ]
  },
  {
   "cell_type": "code",
   "execution_count": null,
   "metadata": {},
   "outputs": [],
   "source": [
    "author_dictionary_strings=pd.Series(author_dict).to_frame()"
   ]
  },
  {
   "cell_type": "code",
   "execution_count": null,
   "metadata": {},
   "outputs": [],
   "source": [
    "author_dictionary_strings.to_csv('author_dictionary.csv')"
   ]
  },
  {
   "cell_type": "code",
   "execution_count": null,
   "metadata": {},
   "outputs": [],
   "source": [
    "data.head(3)"
   ]
  },
  {
   "cell_type": "code",
   "execution_count": null,
   "metadata": {},
   "outputs": [],
   "source": [
    "# d1=pd.read_csv('data_sentiment_subj.csv')\n",
    "# d2=d1.drop(['Unnamed: 0'],axis=1)\n",
    "# d2\n",
    "# d1=pd.read_csv('data_positive.csv')\n",
    "# d2=d1.drop(['Unnamed: 0'],axis=1)\n",
    "# d2\n",
    "\n",
    "# d1=pd.read_csv('data_neagtive.csv')\n",
    "# d2=d1.drop(['Unnamed: 0'],axis=1)\n",
    "# d2\n",
    "\n",
    "d1=pd.read_csv('data_neutral.csv')\n",
    "d2=d1.drop(['Unnamed: 0'],axis=1)\n",
    "d2"
   ]
  },
  {
   "cell_type": "code",
   "execution_count": null,
   "metadata": {},
   "outputs": [],
   "source": [
    "# data_prep=data.drop(['author','score','ups','downs','date','created_utc','parent_comment','subreddit'],axis=1)\n",
    "# data_prep['exclamation_mark']=data_exclamation\n",
    "# data_prep['question_mark']=data_question_mark\n",
    "# data_prep['sentiment_subjectivity']=d2\n",
    "# data_prep['sentiment_positive']=d2\n",
    "# data_prep['sentiment_negative']=d2\n",
    "data_prep['sentiment_neutral']=d2"
   ]
  },
  {
   "cell_type": "code",
   "execution_count": 2,
   "metadata": {
    "execution": {
     "iopub.execute_input": "2022-07-27T12:27:37.167966Z",
     "iopub.status.busy": "2022-07-27T12:27:37.167347Z",
     "iopub.status.idle": "2022-07-27T12:27:39.926379Z",
     "shell.execute_reply": "2022-07-27T12:27:39.925438Z",
     "shell.execute_reply.started": "2022-07-27T12:27:37.167933Z"
    }
   },
   "outputs": [
    {
     "data": {
      "text/plain": [
       "label      0\n",
       "comment    0\n",
       "prob_1     0\n",
       "dtype: int64"
      ]
     },
     "execution_count": 2,
     "metadata": {},
     "output_type": "execute_result"
    }
   ],
   "source": [
    "data_new=pd.read_csv('../input/data-pre-5/data_author_prob.csv')\n",
    "data_new1=data_new.drop(['Unnamed: 0','author'],axis=1)\n",
    "data_new1=data_new1.dropna()\n",
    "data_new1.isna().sum()"
   ]
  },
  {
   "cell_type": "code",
   "execution_count": 4,
   "metadata": {
    "execution": {
     "iopub.execute_input": "2022-07-27T12:27:42.089023Z",
     "iopub.status.busy": "2022-07-27T12:27:42.088578Z",
     "iopub.status.idle": "2022-07-27T12:27:42.098024Z",
     "shell.execute_reply": "2022-07-27T12:27:42.097148Z",
     "shell.execute_reply.started": "2022-07-27T12:27:42.088983Z"
    }
   },
   "outputs": [
    {
     "data": {
      "text/plain": [
       "(1006130, 3)"
      ]
     },
     "execution_count": 4,
     "metadata": {},
     "output_type": "execute_result"
    }
   ],
   "source": [
    "data_new1.shape"
   ]
  },
  {
   "cell_type": "code",
   "execution_count": 5,
   "metadata": {
    "execution": {
     "iopub.execute_input": "2022-07-27T12:27:42.300785Z",
     "iopub.status.busy": "2022-07-27T12:27:42.300394Z",
     "iopub.status.idle": "2022-07-27T12:27:42.318165Z",
     "shell.execute_reply": "2022-07-27T12:27:42.317235Z",
     "shell.execute_reply.started": "2022-07-27T12:27:42.300746Z"
    }
   },
   "outputs": [
    {
     "data": {
      "text/html": [
       "<div>\n",
       "<style scoped>\n",
       "    .dataframe tbody tr th:only-of-type {\n",
       "        vertical-align: middle;\n",
       "    }\n",
       "\n",
       "    .dataframe tbody tr th {\n",
       "        vertical-align: top;\n",
       "    }\n",
       "\n",
       "    .dataframe thead th {\n",
       "        text-align: right;\n",
       "    }\n",
       "</style>\n",
       "<table border=\"1\" class=\"dataframe\">\n",
       "  <thead>\n",
       "    <tr style=\"text-align: right;\">\n",
       "      <th></th>\n",
       "      <th>label</th>\n",
       "      <th>comment</th>\n",
       "      <th>prob_1</th>\n",
       "    </tr>\n",
       "  </thead>\n",
       "  <tbody>\n",
       "    <tr>\n",
       "      <th>0</th>\n",
       "      <td>0</td>\n",
       "      <td>nc nh</td>\n",
       "      <td>0.5</td>\n",
       "    </tr>\n",
       "    <tr>\n",
       "      <th>1</th>\n",
       "      <td>1</td>\n",
       "      <td>surprising!</td>\n",
       "      <td>0.5</td>\n",
       "    </tr>\n",
       "    <tr>\n",
       "      <th>2</th>\n",
       "      <td>0</td>\n",
       "      <td>know west teams play west teams east teams right?</td>\n",
       "      <td>0.5</td>\n",
       "    </tr>\n",
       "    <tr>\n",
       "      <th>3</th>\n",
       "      <td>1</td>\n",
       "      <td>lakers</td>\n",
       "      <td>0.5</td>\n",
       "    </tr>\n",
       "    <tr>\n",
       "      <th>4</th>\n",
       "      <td>0</td>\n",
       "      <td>underdogs earlier today  since gronk announcem...</td>\n",
       "      <td>0.5</td>\n",
       "    </tr>\n",
       "  </tbody>\n",
       "</table>\n",
       "</div>"
      ],
      "text/plain": [
       "   label                                            comment  prob_1\n",
       "0      0                                             nc nh      0.5\n",
       "1      1                                        surprising!     0.5\n",
       "2      0  know west teams play west teams east teams right?     0.5\n",
       "3      1                                             lakers     0.5\n",
       "4      0  underdogs earlier today  since gronk announcem...     0.5"
      ]
     },
     "execution_count": 5,
     "metadata": {},
     "output_type": "execute_result"
    }
   ],
   "source": [
    "data_new1.head()"
   ]
  },
  {
   "cell_type": "code",
   "execution_count": 6,
   "metadata": {
    "execution": {
     "iopub.execute_input": "2022-07-27T12:27:45.763732Z",
     "iopub.status.busy": "2022-07-27T12:27:45.763167Z",
     "iopub.status.idle": "2022-07-27T12:27:45.807931Z",
     "shell.execute_reply": "2022-07-27T12:27:45.806864Z",
     "shell.execute_reply.started": "2022-07-27T12:27:45.763683Z"
    }
   },
   "outputs": [],
   "source": [
    "y=data_new1['label']\n",
    "X=data_new1.drop(['label'],axis=1)"
   ]
  },
  {
   "cell_type": "code",
   "execution_count": 7,
   "metadata": {
    "execution": {
     "iopub.execute_input": "2022-07-27T12:27:50.113134Z",
     "iopub.status.busy": "2022-07-27T12:27:50.112773Z",
     "iopub.status.idle": "2022-07-27T12:27:50.590657Z",
     "shell.execute_reply": "2022-07-27T12:27:50.589635Z",
     "shell.execute_reply.started": "2022-07-27T12:27:50.113087Z"
    }
   },
   "outputs": [
    {
     "name": "stdout",
     "output_type": "stream",
     "text": [
      "(704291, 2) (704291,)\n",
      "(301839, 2) (301839,)\n"
     ]
    }
   ],
   "source": [
    "X_train,X_test,y_train,y_test=train_test_split(X,y,stratify=y,random_state=42,test_size=0.3,shuffle=True)\n",
    "print((X_train.shape),y_train.shape)\n",
    "print((X_test.shape),y_test.shape)"
   ]
  },
  {
   "cell_type": "code",
   "execution_count": 6,
   "metadata": {
    "execution": {
     "iopub.execute_input": "2022-07-27T09:38:58.504052Z",
     "iopub.status.busy": "2022-07-27T09:38:58.503579Z",
     "iopub.status.idle": "2022-07-27T09:38:58.512720Z",
     "shell.execute_reply": "2022-07-27T09:38:58.511766Z",
     "shell.execute_reply.started": "2022-07-27T09:38:58.504012Z"
    }
   },
   "outputs": [],
   "source": [
    "# sentiment_subj=X_train[ 'sentiment_subjectivity'].values\n",
    "# sentiment_neg=X_train[ 'sentiment_negative'].values\n",
    "# sentiment_pos=X_train[ 'sentiment_positive'].values\n",
    "# sentiment_neu=X_train[ 'sentiment_neutral'].values\n",
    "# exc_mark=X_train[ 'exclamation_mark'].values\n",
    "# ques_mark=X_train['question_mark'].values\n",
    "# profane_words=X_train['profane_words'].values"
   ]
  },
  {
   "cell_type": "code",
   "execution_count": 8,
   "metadata": {
    "execution": {
     "iopub.execute_input": "2022-07-27T12:28:46.261858Z",
     "iopub.status.busy": "2022-07-27T12:28:46.261008Z",
     "iopub.status.idle": "2022-07-27T12:28:46.266439Z",
     "shell.execute_reply": "2022-07-27T12:28:46.265507Z",
     "shell.execute_reply.started": "2022-07-27T12:28:46.261821Z"
    }
   },
   "outputs": [],
   "source": [
    "probability_sent=X_train['prob_1'].values\n",
    "probability_sent_test=X_test['prob_1'].values"
   ]
  },
  {
   "cell_type": "code",
   "execution_count": 7,
   "metadata": {
    "execution": {
     "iopub.execute_input": "2022-07-27T09:39:11.709174Z",
     "iopub.status.busy": "2022-07-27T09:39:11.708713Z",
     "iopub.status.idle": "2022-07-27T09:39:11.722330Z",
     "shell.execute_reply": "2022-07-27T09:39:11.721366Z",
     "shell.execute_reply.started": "2022-07-27T09:39:11.709130Z"
    }
   },
   "outputs": [],
   "source": [
    "# sentiment_subj_test=X_test[ 'sentiment_subjectivity'].values\n",
    "# sentiment_neg_test=X_test[ 'sentiment_negative'].values\n",
    "# sentiment_pos_test=X_test[ 'sentiment_positive'].values\n",
    "# sentiment_neu_test=X_test[ 'sentiment_neutral'].values\n",
    "# exc_mark_test=X_test[ 'exclamation_mark'].values\n",
    "# ques_mark_test=X_test['question_mark'].values\n",
    "# profane_words_test=X_test['profane_words'].values"
   ]
  },
  {
   "cell_type": "code",
   "execution_count": 9,
   "metadata": {
    "execution": {
     "iopub.execute_input": "2022-07-27T12:29:02.443242Z",
     "iopub.status.busy": "2022-07-27T12:29:02.442863Z",
     "iopub.status.idle": "2022-07-27T12:29:23.381154Z",
     "shell.execute_reply": "2022-07-27T12:29:23.380162Z",
     "shell.execute_reply.started": "2022-07-27T12:29:02.443206Z"
    }
   },
   "outputs": [
    {
     "name": "stdout",
     "output_type": "stream",
     "text": [
      "100\n",
      "129780\n"
     ]
    }
   ],
   "source": [
    "tokenizer=Tokenizer(num_words=40000,filters='!\"#$%&()*+,-./:;<=>?@[\\\\]^_`{|}~\\t\\n',oov_token='<OOV>')\n",
    "tokenizer.fit_on_texts(list(X_train['comment']))\n",
    "x_train=tokenizer.texts_to_sequences(X_train['comment'])\n",
    "maxlen = 100\n",
    "print(maxlen)\n",
    "word_index=tokenizer.word_index\n",
    "print(len(word_index)+1)\n",
    "\n",
    "padded_sequences_train=pad_sequences(x_train,maxlen=maxlen,padding='post',truncating='post')"
   ]
  },
  {
   "cell_type": "code",
   "execution_count": 10,
   "metadata": {
    "execution": {
     "iopub.execute_input": "2022-07-27T12:29:23.481067Z",
     "iopub.status.busy": "2022-07-27T12:29:23.480770Z",
     "iopub.status.idle": "2022-07-27T12:29:28.053591Z",
     "shell.execute_reply": "2022-07-27T12:29:28.052586Z",
     "shell.execute_reply.started": "2022-07-27T12:29:23.481041Z"
    }
   },
   "outputs": [
    {
     "name": "stdout",
     "output_type": "stream",
     "text": [
      "(704291, 100) (301839, 100)\n"
     ]
    }
   ],
   "source": [
    "x_test=tokenizer.texts_to_sequences(X_test['comment'])\n",
    "padded_sequences_test=pad_sequences(x_test,maxlen=maxlen,padding='post',truncating='post')\n",
    "\n",
    "\n",
    "print((padded_sequences_train.shape),padded_sequences_test.shape)"
   ]
  },
  {
   "cell_type": "code",
   "execution_count": 11,
   "metadata": {
    "execution": {
     "iopub.execute_input": "2022-07-27T12:29:31.686098Z",
     "iopub.status.busy": "2022-07-27T12:29:31.685741Z",
     "iopub.status.idle": "2022-07-27T12:32:33.970476Z",
     "shell.execute_reply": "2022-07-27T12:32:33.969500Z",
     "shell.execute_reply.started": "2022-07-27T12:29:31.686068Z"
    }
   },
   "outputs": [
    {
     "name": "stdout",
     "output_type": "stream",
     "text": [
      "Found 1999996 word vectors.\n"
     ]
    }
   ],
   "source": [
    "path_to_glove_file = r'../input/fasttext/crawl-300d-2M.vec'\n",
    "\n",
    "# https://keras.io/examples/nlp/pretrained_word_embeddings/\n",
    "\n",
    "embeddings_index = {}\n",
    "with open(path_to_glove_file,encoding='utf-8') as f:\n",
    "    for line in f:\n",
    "        word, coefs = line.split(maxsplit=1)\n",
    "        coefs = np.fromstring(coefs, \"f\", sep=\" \")\n",
    "        embeddings_index[word] = coefs\n",
    "        \n",
    "        \n",
    "print(\"Found %s word vectors.\" % len(embeddings_index))"
   ]
  },
  {
   "cell_type": "code",
   "execution_count": 12,
   "metadata": {
    "execution": {
     "iopub.execute_input": "2022-07-27T12:32:45.834927Z",
     "iopub.status.busy": "2022-07-27T12:32:45.834574Z",
     "iopub.status.idle": "2022-07-27T12:32:45.839355Z",
     "shell.execute_reply": "2022-07-27T12:32:45.838427Z",
     "shell.execute_reply.started": "2022-07-27T12:32:45.834896Z"
    }
   },
   "outputs": [],
   "source": [
    "total_words = 40000"
   ]
  },
  {
   "cell_type": "code",
   "execution_count": 13,
   "metadata": {
    "execution": {
     "iopub.execute_input": "2022-07-27T12:32:46.625005Z",
     "iopub.status.busy": "2022-07-27T12:32:46.624609Z",
     "iopub.status.idle": "2022-07-27T12:32:46.795254Z",
     "shell.execute_reply": "2022-07-27T12:32:46.794152Z",
     "shell.execute_reply.started": "2022-07-27T12:32:46.624975Z"
    }
   },
   "outputs": [
    {
     "name": "stdout",
     "output_type": "stream",
     "text": [
      "Converted 38407 words (1593 misses)\n"
     ]
    }
   ],
   "source": [
    "num_tokens = total_words+1\n",
    "embedding_dim = 300\n",
    "hits = 0\n",
    "misses = 0\n",
    "\n",
    "# Prepare embedding matrix\n",
    "embedding_matrix = np.zeros((num_tokens, embedding_dim))\n",
    "for word, i in word_index.items():\n",
    "    if i<num_tokens:\n",
    "        embedding_vector = embeddings_index.get(word)\n",
    "        if embedding_vector is not None:\n",
    "            # Words not found in embedding index will be all-zeros.\n",
    "            # This includes the representation for \"padding\" and \"OOV\"\n",
    "            embedding_matrix[i] = embedding_vector\n",
    "            hits += 1\n",
    "        else:\n",
    "            misses += 1\n",
    "print(\"Converted %d words (%d misses)\" % (hits, misses))"
   ]
  },
  {
   "cell_type": "code",
   "execution_count": 14,
   "metadata": {
    "execution": {
     "iopub.execute_input": "2022-07-27T12:32:48.417593Z",
     "iopub.status.busy": "2022-07-27T12:32:48.416635Z",
     "iopub.status.idle": "2022-07-27T12:32:48.423770Z",
     "shell.execute_reply": "2022-07-27T12:32:48.422777Z",
     "shell.execute_reply.started": "2022-07-27T12:32:48.417555Z"
    }
   },
   "outputs": [
    {
     "name": "stdout",
     "output_type": "stream",
     "text": [
      "(40001, 300)\n",
      "129780\n"
     ]
    }
   ],
   "source": [
    "print(embedding_matrix.shape)\n",
    "\n",
    "vocab_size=len(tokenizer.word_index)+1\n",
    "print(vocab_size)"
   ]
  },
  {
   "cell_type": "code",
   "execution_count": 15,
   "metadata": {
    "execution": {
     "iopub.execute_input": "2022-07-27T12:32:52.043016Z",
     "iopub.status.busy": "2022-07-27T12:32:52.042403Z",
     "iopub.status.idle": "2022-07-27T12:32:52.047810Z",
     "shell.execute_reply": "2022-07-27T12:32:52.046793Z",
     "shell.execute_reply.started": "2022-07-27T12:32:52.042976Z"
    }
   },
   "outputs": [
    {
     "name": "stdout",
     "output_type": "stream",
     "text": [
      "(704291, 100)\n",
      "(301839, 100)\n",
      "(704291,)\n",
      "(301839,)\n"
     ]
    }
   ],
   "source": [
    "print(padded_sequences_train.shape)\n",
    "print(padded_sequences_test.shape)\n",
    "print(y_train.shape)\n",
    "print(y_test.shape)"
   ]
  },
  {
   "cell_type": "code",
   "execution_count": 16,
   "metadata": {
    "execution": {
     "iopub.execute_input": "2022-07-27T12:32:52.634584Z",
     "iopub.status.busy": "2022-07-27T12:32:52.633567Z",
     "iopub.status.idle": "2022-07-27T12:32:52.638865Z",
     "shell.execute_reply": "2022-07-27T12:32:52.637394Z",
     "shell.execute_reply.started": "2022-07-27T12:32:52.634546Z"
    }
   },
   "outputs": [],
   "source": [
    "y_train=np.asarray(y_train)\n",
    "y_test=np.asarray(y_test)"
   ]
  },
  {
   "cell_type": "code",
   "execution_count": 16,
   "metadata": {
    "execution": {
     "iopub.execute_input": "2022-07-27T09:43:23.474726Z",
     "iopub.status.busy": "2022-07-27T09:43:23.474377Z",
     "iopub.status.idle": "2022-07-27T09:43:23.483238Z",
     "shell.execute_reply": "2022-07-27T09:43:23.482148Z",
     "shell.execute_reply.started": "2022-07-27T09:43:23.474696Z"
    }
   },
   "outputs": [],
   "source": [
    "# train_final=[padded_sequences_train,sentiment_subj.reshape(-1,1),sentiment_neg.reshape(-1,1),sentiment_pos.reshape(-1,1),sentiment_neu.reshape(-1,1),exc_mark.reshape(-1,1),ques_mark.reshape(-1,1),profane_words.reshape(-1,1)]\n",
    "# test_final=[padded_sequences_test,sentiment_subj_test.reshape(-1,1),sentiment_neg_test.reshape(-1,1),sentiment_pos_test.reshape(-1,1),sentiment_neu_test.reshape(-1,1),exc_mark_test.reshape(-1,1),ques_mark_test.reshape(-1,1),profane_words_test.reshape(-1,1)]"
   ]
  },
  {
   "cell_type": "code",
   "execution_count": 17,
   "metadata": {
    "execution": {
     "iopub.execute_input": "2022-07-27T12:32:56.894280Z",
     "iopub.status.busy": "2022-07-27T12:32:56.893920Z",
     "iopub.status.idle": "2022-07-27T12:32:56.899648Z",
     "shell.execute_reply": "2022-07-27T12:32:56.898532Z",
     "shell.execute_reply.started": "2022-07-27T12:32:56.894248Z"
    }
   },
   "outputs": [],
   "source": [
    "train_final=[padded_sequences_train,probability_sent.reshape(-1,1)]\n",
    "test_final=[padded_sequences_test,probability_sent_test.reshape(-1,1)]"
   ]
  },
  {
   "cell_type": "markdown",
   "metadata": {},
   "source": [
    "# Model 1 LSTM"
   ]
  },
  {
   "cell_type": "code",
   "execution_count": 17,
   "metadata": {
    "execution": {
     "iopub.execute_input": "2022-07-27T09:43:28.084734Z",
     "iopub.status.busy": "2022-07-27T09:43:28.084389Z",
     "iopub.status.idle": "2022-07-27T09:43:37.852603Z",
     "shell.execute_reply": "2022-07-27T09:43:37.850042Z",
     "shell.execute_reply.started": "2022-07-27T09:43:28.084704Z"
    }
   },
   "outputs": [
    {
     "name": "stderr",
     "output_type": "stream",
     "text": [
      "2022-07-27 09:43:28.131324: I tensorflow/stream_executor/cuda/cuda_gpu_executor.cc:937] successful NUMA node read from SysFS had negative value (-1), but there must be at least one NUMA node, so returning NUMA node zero\n",
      "2022-07-27 09:43:28.132525: I tensorflow/stream_executor/cuda/cuda_gpu_executor.cc:937] successful NUMA node read from SysFS had negative value (-1), but there must be at least one NUMA node, so returning NUMA node zero\n",
      "2022-07-27 09:43:28.133200: I tensorflow/stream_executor/cuda/cuda_gpu_executor.cc:937] successful NUMA node read from SysFS had negative value (-1), but there must be at least one NUMA node, so returning NUMA node zero\n",
      "2022-07-27 09:43:28.133971: I tensorflow/core/platform/cpu_feature_guard.cc:142] This TensorFlow binary is optimized with oneAPI Deep Neural Network Library (oneDNN) to use the following CPU instructions in performance-critical operations:  AVX2 AVX512F FMA\n",
      "To enable them in other operations, rebuild TensorFlow with the appropriate compiler flags.\n",
      "2022-07-27 09:43:28.134259: I tensorflow/stream_executor/cuda/cuda_gpu_executor.cc:937] successful NUMA node read from SysFS had negative value (-1), but there must be at least one NUMA node, so returning NUMA node zero\n",
      "2022-07-27 09:43:28.134941: I tensorflow/stream_executor/cuda/cuda_gpu_executor.cc:937] successful NUMA node read from SysFS had negative value (-1), but there must be at least one NUMA node, so returning NUMA node zero\n",
      "2022-07-27 09:43:28.135619: I tensorflow/stream_executor/cuda/cuda_gpu_executor.cc:937] successful NUMA node read from SysFS had negative value (-1), but there must be at least one NUMA node, so returning NUMA node zero\n",
      "2022-07-27 09:43:36.241135: I tensorflow/stream_executor/cuda/cuda_gpu_executor.cc:937] successful NUMA node read from SysFS had negative value (-1), but there must be at least one NUMA node, so returning NUMA node zero\n",
      "2022-07-27 09:43:36.242249: I tensorflow/stream_executor/cuda/cuda_gpu_executor.cc:937] successful NUMA node read from SysFS had negative value (-1), but there must be at least one NUMA node, so returning NUMA node zero\n",
      "2022-07-27 09:43:36.243179: I tensorflow/stream_executor/cuda/cuda_gpu_executor.cc:937] successful NUMA node read from SysFS had negative value (-1), but there must be at least one NUMA node, so returning NUMA node zero\n",
      "2022-07-27 09:43:36.244988: I tensorflow/core/common_runtime/gpu/gpu_device.cc:1510] Created device /job:localhost/replica:0/task:0/device:GPU:0 with 14653 MB memory:  -> device: 0, name: Tesla P100-PCIE-16GB, pci bus id: 0000:00:04.0, compute capability: 6.0\n",
      "2022-07-27 09:43:36.695634: W tensorflow/core/framework/cpu_allocator_impl.cc:80] Allocation of 48001200 exceeds 10% of free system memory.\n"
     ]
    },
    {
     "name": "stdout",
     "output_type": "stream",
     "text": [
      "Model: \"model\"\n",
      "_________________________________________________________________\n",
      "Layer (type)                 Output Shape              Param #   \n",
      "=================================================================\n",
      "input_1 (InputLayer)         [(None, 100)]             0         \n",
      "_________________________________________________________________\n",
      "embedding (Embedding)        (None, 100, 300)          12000300  \n",
      "_________________________________________________________________\n",
      "bidirectional (Bidirectional (None, 100, 128)          186880    \n",
      "_________________________________________________________________\n",
      "dropout (Dropout)            (None, 100, 128)          0         \n",
      "_________________________________________________________________\n",
      "bidirectional_1 (Bidirection (None, 100, 128)          98816     \n",
      "_________________________________________________________________\n",
      "dropout_1 (Dropout)          (None, 100, 128)          0         \n",
      "_________________________________________________________________\n",
      "flatten (Flatten)            (None, 12800)             0         \n",
      "_________________________________________________________________\n",
      "dense (Dense)                (None, 256)               3277056   \n",
      "_________________________________________________________________\n",
      "dropout_2 (Dropout)          (None, 256)               0         \n",
      "_________________________________________________________________\n",
      "flatten_1 (Flatten)          (None, 256)               0         \n",
      "_________________________________________________________________\n",
      "dense_1 (Dense)              (None, 32)                8224      \n",
      "_________________________________________________________________\n",
      "dense_2 (Dense)              (None, 1)                 33        \n",
      "=================================================================\n",
      "Total params: 15,571,309\n",
      "Trainable params: 3,571,009\n",
      "Non-trainable params: 12,000,300\n",
      "_________________________________________________________________\n"
     ]
    }
   ],
   "source": [
    "input_layer=Input(shape=(maxlen))\n",
    "embedding_layer=Embedding(input_dim=num_tokens, output_dim=300,weights=[embedding_matrix],trainable=False)(input_layer)\n",
    "lstm_layer=Bidirectional(LSTM(64,return_sequences=True))(embedding_layer)\n",
    "drop=Dropout(0.4)(lstm_layer)\n",
    "lstm_layer1=Bidirectional(LSTM(64,return_sequences=True))(drop)\n",
    "drop2=Dropout(0.4)(lstm_layer1)\n",
    "flatten_layer=Flatten()(drop2)\n",
    "dense_layer1=Dense(256,activation='relu',kernel_initializer=he_normal())(flatten_layer)\n",
    "drop3=Dropout(0.4)(dense_layer1)\n",
    "flatten_layer1=Flatten()(drop3)\n",
    "dense_layer3=Dense(32,activation='relu',kernel_initializer=he_normal())(flatten_layer1)\n",
    "output_layer=Dense(1,activation='sigmoid')(dense_layer3)\n",
    "\n",
    "model=Model(input_layer,output_layer)\n",
    "\n",
    "model.compile(loss='binary_crossentropy',optimizer=Adam(lr=0.0001),metrics=['accuracy'])\n",
    "model.summary()"
   ]
  },
  {
   "cell_type": "code",
   "execution_count": 18,
   "metadata": {
    "execution": {
     "iopub.execute_input": "2022-07-27T09:43:37.855087Z",
     "iopub.status.busy": "2022-07-27T09:43:37.854727Z",
     "iopub.status.idle": "2022-07-27T10:12:43.109984Z",
     "shell.execute_reply": "2022-07-27T10:12:43.108982Z",
     "shell.execute_reply.started": "2022-07-27T09:43:37.855049Z"
    }
   },
   "outputs": [
    {
     "name": "stderr",
     "output_type": "stream",
     "text": [
      "2022-07-27 09:43:37.929552: W tensorflow/core/framework/cpu_allocator_impl.cc:80] Allocation of 48001200 exceeds 10% of free system memory.\n",
      "2022-07-27 09:43:38.060935: I tensorflow/core/profiler/lib/profiler_session.cc:131] Profiler session initializing.\n",
      "2022-07-27 09:43:38.060984: I tensorflow/core/profiler/lib/profiler_session.cc:146] Profiler session started.\n",
      "2022-07-27 09:43:38.064540: I tensorflow/core/profiler/internal/gpu/cupti_tracer.cc:1614] Profiler found 1 GPUs\n",
      "2022-07-27 09:43:39.115025: I tensorflow/core/profiler/lib/profiler_session.cc:164] Profiler session tear down.\n",
      "2022-07-27 09:43:39.115223: I tensorflow/core/profiler/internal/gpu/cupti_tracer.cc:1748] CUPTI activity buffer flushed\n",
      "2022-07-27 09:43:39.264407: W tensorflow/core/framework/cpu_allocator_impl.cc:80] Allocation of 282387200 exceeds 10% of free system memory.\n",
      "2022-07-27 09:43:39.397235: I tensorflow/compiler/mlir/mlir_graph_optimization_pass.cc:185] None of the MLIR Optimization Passes are enabled (registered 2)\n"
     ]
    },
    {
     "name": "stdout",
     "output_type": "stream",
     "text": [
      "Epoch 1/9\n"
     ]
    },
    {
     "name": "stderr",
     "output_type": "stream",
     "text": [
      "2022-07-27 09:43:44.705621: I tensorflow/stream_executor/cuda/cuda_dnn.cc:369] Loaded cuDNN version 8005\n"
     ]
    },
    {
     "name": "stdout",
     "output_type": "stream",
     "text": [
      "   1/5516 [..............................] - ETA: 10:20:13 - loss: 0.6956 - accuracy: 0.4609"
     ]
    },
    {
     "name": "stderr",
     "output_type": "stream",
     "text": [
      "2022-07-27 09:43:46.426283: I tensorflow/core/profiler/lib/profiler_session.cc:131] Profiler session initializing.\n",
      "2022-07-27 09:43:46.426334: I tensorflow/core/profiler/lib/profiler_session.cc:146] Profiler session started.\n"
     ]
    },
    {
     "name": "stdout",
     "output_type": "stream",
     "text": [
      "   2/5516 [..............................] - ETA: 1:40:28 - loss: 0.6944 - accuracy: 0.5156 "
     ]
    },
    {
     "name": "stderr",
     "output_type": "stream",
     "text": [
      "2022-07-27 09:43:47.314373: I tensorflow/core/profiler/lib/profiler_session.cc:66] Profiler session collecting data.\n",
      "2022-07-27 09:43:47.316520: I tensorflow/core/profiler/internal/gpu/cupti_tracer.cc:1748] CUPTI activity buffer flushed\n",
      "2022-07-27 09:43:47.477893: I tensorflow/core/profiler/internal/gpu/cupti_collector.cc:673]  GpuTracer has collected 2392 callback api events and 2389 activity events. \n",
      "2022-07-27 09:43:47.512969: I tensorflow/core/profiler/lib/profiler_session.cc:164] Profiler session tear down.\n"
     ]
    },
    {
     "name": "stdout",
     "output_type": "stream",
     "text": [
      "   5/5516 [..............................] - ETA: 35:35 - loss: 0.6930 - accuracy: 0.5266  "
     ]
    },
    {
     "name": "stderr",
     "output_type": "stream",
     "text": [
      "2022-07-27 09:43:47.576362: I tensorflow/core/profiler/rpc/client/save_profile.cc:136] Creating directory: logs/20220727-094338/train/plugins/profile/2022_07_27_09_43_47\n",
      "\n",
      "2022-07-27 09:43:47.609466: I tensorflow/core/profiler/rpc/client/save_profile.cc:142] Dumped gzipped tool data for trace.json.gz to logs/20220727-094338/train/plugins/profile/2022_07_27_09_43_47/8567bd2a534f.trace.json.gz\n",
      "2022-07-27 09:43:47.657693: I tensorflow/core/profiler/rpc/client/save_profile.cc:136] Creating directory: logs/20220727-094338/train/plugins/profile/2022_07_27_09_43_47\n",
      "\n",
      "2022-07-27 09:43:47.663357: I tensorflow/core/profiler/rpc/client/save_profile.cc:142] Dumped gzipped tool data for memory_profile.json.gz to logs/20220727-094338/train/plugins/profile/2022_07_27_09_43_47/8567bd2a534f.memory_profile.json.gz\n",
      "2022-07-27 09:43:47.664882: I tensorflow/core/profiler/rpc/client/capture_profile.cc:251] Creating directory: logs/20220727-094338/train/plugins/profile/2022_07_27_09_43_47\n",
      "Dumped tool data for xplane.pb to logs/20220727-094338/train/plugins/profile/2022_07_27_09_43_47/8567bd2a534f.xplane.pb\n",
      "Dumped tool data for overview_page.pb to logs/20220727-094338/train/plugins/profile/2022_07_27_09_43_47/8567bd2a534f.overview_page.pb\n",
      "Dumped tool data for input_pipeline.pb to logs/20220727-094338/train/plugins/profile/2022_07_27_09_43_47/8567bd2a534f.input_pipeline.pb\n",
      "Dumped tool data for tensorflow_stats.pb to logs/20220727-094338/train/plugins/profile/2022_07_27_09_43_47/8567bd2a534f.tensorflow_stats.pb\n",
      "Dumped tool data for kernel_stats.pb to logs/20220727-094338/train/plugins/profile/2022_07_27_09_43_47/8567bd2a534f.kernel_stats.pb\n",
      "\n"
     ]
    },
    {
     "name": "stdout",
     "output_type": "stream",
     "text": [
      "5515/5516 [============================>.] - ETA: 0s - loss: 0.6178 - accuracy: 0.6542"
     ]
    },
    {
     "name": "stderr",
     "output_type": "stream",
     "text": [
      "2022-07-27 09:46:20.852515: W tensorflow/core/framework/cpu_allocator_impl.cc:80] Allocation of 121023600 exceeds 10% of free system memory.\n"
     ]
    },
    {
     "name": "stdout",
     "output_type": "stream",
     "text": [
      "5516/5516 [==============================] - 203s 36ms/step - loss: 0.6178 - accuracy: 0.6542 - val_loss: 0.5997 - val_accuracy: 0.6719\n"
     ]
    },
    {
     "name": "stderr",
     "output_type": "stream",
     "text": [
      "2022-07-27 09:47:02.908775: W tensorflow/core/framework/cpu_allocator_impl.cc:80] Allocation of 48001200 exceeds 10% of free system memory.\n"
     ]
    },
    {
     "name": "stdout",
     "output_type": "stream",
     "text": [
      "Epoch 2/9\n",
      "5516/5516 [==============================] - 182s 33ms/step - loss: 0.5910 - accuracy: 0.6805 - val_loss: 0.5839 - val_accuracy: 0.6858\n",
      "Epoch 3/9\n",
      "5516/5516 [==============================] - 181s 33ms/step - loss: 0.5795 - accuracy: 0.6911 - val_loss: 0.5768 - val_accuracy: 0.6926\n",
      "Epoch 4/9\n",
      "5516/5516 [==============================] - 195s 35ms/step - loss: 0.5726 - accuracy: 0.6959 - val_loss: 0.5810 - val_accuracy: 0.6907\n",
      "Epoch 5/9\n",
      "5516/5516 [==============================] - 196s 35ms/step - loss: 0.5674 - accuracy: 0.7006 - val_loss: 0.5710 - val_accuracy: 0.6971\n",
      "Epoch 6/9\n",
      "5516/5516 [==============================] - 195s 35ms/step - loss: 0.5633 - accuracy: 0.7044 - val_loss: 0.5693 - val_accuracy: 0.6988\n",
      "Epoch 7/9\n",
      "5516/5516 [==============================] - 195s 35ms/step - loss: 0.5595 - accuracy: 0.7077 - val_loss: 0.5670 - val_accuracy: 0.7009\n",
      "Epoch 8/9\n",
      "5516/5516 [==============================] - 195s 35ms/step - loss: 0.5566 - accuracy: 0.7103 - val_loss: 0.5659 - val_accuracy: 0.7016\n",
      "Epoch 9/9\n",
      "5516/5516 [==============================] - 182s 33ms/step - loss: 0.5531 - accuracy: 0.7126 - val_loss: 0.5634 - val_accuracy: 0.7037\n"
     ]
    }
   ],
   "source": [
    "from tensorflow.keras.models import load_model\n",
    "# Save the model\n",
    "model.save('.//model_lstm123.h5')\n",
    "log_dir = os.path.join(\"logs\", datetime.datetime.now().strftime(\"%Y%m%d-%H%M%S\"))\n",
    "tensorboard_callback = tf.keras.callbacks.TensorBoard(log_dir=log_dir,histogram_freq=1,write_graph=True)\n",
    "\n",
    "history=model.fit(padded_sequences_train,y_train,epochs=9,verbose=1,batch_size=128,\n",
    "         validation_data=(padded_sequences_test,y_test),callbacks=[tensorboard_callback])"
   ]
  },
  {
   "cell_type": "code",
   "execution_count": 19,
   "metadata": {
    "execution": {
     "iopub.execute_input": "2022-07-27T10:34:03.721765Z",
     "iopub.status.busy": "2022-07-27T10:34:03.721424Z",
     "iopub.status.idle": "2022-07-27T10:34:04.175890Z",
     "shell.execute_reply": "2022-07-27T10:34:04.174994Z",
     "shell.execute_reply.started": "2022-07-27T10:34:03.721735Z"
    }
   },
   "outputs": [
    {
     "data": {
      "image/png": "[encoded data removed]",
      "text/plain": [
       "<Figure size 576x576 with 1 Axes>"
      ]
     },
     "metadata": {
      "needs_background": "light"
     },
     "output_type": "display_data"
    },
    {
     "data": {
      "image/png": "[encoded data removed]",
      "text/plain": [
       "<Figure size 576x576 with 1 Axes>"
      ]
     },
     "metadata": {
      "needs_background": "light"
     },
     "output_type": "display_data"
    }
   ],
   "source": [
    "plt.figure(figsize=(8,8))\n",
    "plt.plot(history.history['accuracy'])\n",
    "plt.plot(history.history['val_accuracy'])\n",
    "plt.title('model accuracy')\n",
    "plt.ylabel('accuracy')\n",
    "plt.xlabel('epoch')\n",
    "plt.legend(['train', 'test'], loc='upper left')\n",
    "plt.show()\n",
    "\n",
    "\n",
    "plt.figure(figsize=(8,8))\n",
    "plt.plot(history.history['loss'])\n",
    "plt.plot(history.history['val_loss'])\n",
    "plt.title('model loss')\n",
    "plt.ylabel('loss')\n",
    "plt.xlabel('epoch')\n",
    "plt.legend(['train', 'test'], loc='upper left')\n",
    "plt.show()"
   ]
  },
  {
   "cell_type": "code",
   "execution_count": 21,
   "metadata": {
    "execution": {
     "iopub.execute_input": "2022-07-27T10:35:09.963591Z",
     "iopub.status.busy": "2022-07-27T10:35:09.962813Z",
     "iopub.status.idle": "2022-07-27T10:36:31.944459Z",
     "shell.execute_reply": "2022-07-27T10:36:31.943364Z",
     "shell.execute_reply.started": "2022-07-27T10:35:09.963528Z"
    }
   },
   "outputs": [
    {
     "name": "stdout",
     "output_type": "stream",
     "text": [
      "[1 0 1 ... 1 1 1]\n",
      "302559\n"
     ]
    }
   ],
   "source": [
    "y_pred=model.predict(padded_sequences_test)\n",
    "\n",
    "\n",
    "print(y_test)\n",
    "print(len(y_test))"
   ]
  },
  {
   "cell_type": "code",
   "execution_count": 22,
   "metadata": {
    "execution": {
     "iopub.execute_input": "2022-07-27T10:36:31.946351Z",
     "iopub.status.busy": "2022-07-27T10:36:31.945995Z",
     "iopub.status.idle": "2022-07-27T10:36:32.529074Z",
     "shell.execute_reply": "2022-07-27T10:36:32.528084Z",
     "shell.execute_reply.started": "2022-07-27T10:36:31.946314Z"
    }
   },
   "outputs": [
    {
     "name": "stdout",
     "output_type": "stream",
     "text": [
      "[[0.94651484]\n",
      " [0.36337644]\n",
      " [0.26433814]\n",
      " ...\n",
      " [0.8072249 ]\n",
      " [0.7637878 ]\n",
      " [0.3344388 ]]\n",
      "302559\n"
     ]
    }
   ],
   "source": [
    "print(y_pred)\n",
    "\n",
    "result=list(map(lambda x:1 if x>=0.5 else 0,y_pred))\n",
    "print(len(result))"
   ]
  },
  {
   "cell_type": "code",
   "execution_count": 23,
   "metadata": {
    "execution": {
     "iopub.execute_input": "2022-07-27T10:36:32.531998Z",
     "iopub.status.busy": "2022-07-27T10:36:32.531465Z",
     "iopub.status.idle": "2022-07-27T10:36:32.706273Z",
     "shell.execute_reply": "2022-07-27T10:36:32.705277Z",
     "shell.execute_reply.started": "2022-07-27T10:36:32.531957Z"
    }
   },
   "outputs": [],
   "source": [
    "cf_matrix=(confusion_matrix(y_test,result))"
   ]
  },
  {
   "cell_type": "code",
   "execution_count": 24,
   "metadata": {
    "execution": {
     "iopub.execute_input": "2022-07-27T10:36:32.709359Z",
     "iopub.status.busy": "2022-07-27T10:36:32.707866Z",
     "iopub.status.idle": "2022-07-27T10:36:32.948933Z",
     "shell.execute_reply": "2022-07-27T10:36:32.948045Z",
     "shell.execute_reply.started": "2022-07-27T10:36:32.709317Z"
    }
   },
   "outputs": [
    {
     "data": {
      "image/png": "[encoded data removed]",
      "text/plain": [
       "<Figure size 720x720 with 2 Axes>"
      ]
     },
     "metadata": {
      "needs_background": "light"
     },
     "output_type": "display_data"
    }
   ],
   "source": [
    "# https://medium.com/@dtuk81/confusion-matrix-visualization-fc31e3f30fea\n",
    "plt.figure(figsize=(10,10))\n",
    "group_names = ['True Neg','False Pos','False Neg','True Pos']\n",
    "group_counts = [\"{0:0.0f}\".format(value) for value in\n",
    "                cf_matrix.flatten()]\n",
    "group_percentages = [\"{0:.2%}\".format(value) for value in\n",
    "                     cf_matrix.flatten()/np.sum(cf_matrix)]\n",
    "labels = [f\"{v1}\\n{v2}\\n{v3}\" for v1, v2, v3 in\n",
    "          zip(group_names,group_counts,group_percentages)]\n",
    "labels = np.asarray(labels).reshape(2,2)\n",
    "sns.heatmap(cf_matrix, annot=labels, fmt='', cmap='Blues')\n",
    "plt.show()"
   ]
  },
  {
   "cell_type": "code",
   "execution_count": 25,
   "metadata": {
    "execution": {
     "iopub.execute_input": "2022-07-27T10:36:32.951328Z",
     "iopub.status.busy": "2022-07-27T10:36:32.950636Z",
     "iopub.status.idle": "2022-07-27T10:36:33.624956Z",
     "shell.execute_reply": "2022-07-27T10:36:33.623627Z",
     "shell.execute_reply.started": "2022-07-27T10:36:32.951289Z"
    }
   },
   "outputs": [
    {
     "name": "stdout",
     "output_type": "stream",
     "text": [
      "              precision    recall  f1-score   support\n",
      "\n",
      "           0       0.68      0.76      0.72    151122\n",
      "           1       0.73      0.65      0.69    151437\n",
      "\n",
      "    accuracy                           0.70    302559\n",
      "   macro avg       0.71      0.70      0.70    302559\n",
      "weighted avg       0.71      0.70      0.70    302559\n",
      "\n"
     ]
    }
   ],
   "source": [
    "print(classification_report(y_test,result))"
   ]
  },
  {
   "cell_type": "code",
   "execution_count": 26,
   "metadata": {
    "execution": {
     "iopub.execute_input": "2022-07-27T10:36:33.627095Z",
     "iopub.status.busy": "2022-07-27T10:36:33.626629Z",
     "iopub.status.idle": "2022-07-27T10:36:35.052161Z",
     "shell.execute_reply": "2022-07-27T10:36:35.051080Z",
     "shell.execute_reply.started": "2022-07-27T10:36:33.627047Z"
    }
   },
   "outputs": [
    {
     "data": {
      "image/png": "[encoded data removed]",
      "text/plain": [
       "<IPython.core.display.Image object>"
      ]
     },
     "execution_count": 26,
     "metadata": {},
     "output_type": "execute_result"
    }
   ],
   "source": [
    "tf.keras.utils.plot_model(\n",
    "    model,\n",
    "    to_file=\"model.png\",\n",
    "    show_shapes=False,\n",
    "    show_dtype=False,\n",
    "    show_layer_names=True,\n",
    "    rankdir=\"TB\",\n",
    "    expand_nested=False,\n",
    "    dpi=96,\n",
    "    layer_range=None,\n",
    "   \n",
    ")"
   ]
  },
  {
   "cell_type": "markdown",
   "metadata": {},
   "source": [
    "## Model 2 CNN"
   ]
  },
  {
   "cell_type": "code",
   "execution_count": 27,
   "metadata": {
    "execution": {
     "iopub.execute_input": "2022-07-27T10:37:53.308066Z",
     "iopub.status.busy": "2022-07-27T10:37:53.306802Z",
     "iopub.status.idle": "2022-07-27T10:37:53.548691Z",
     "shell.execute_reply": "2022-07-27T10:37:53.547769Z",
     "shell.execute_reply.started": "2022-07-27T10:37:53.308019Z"
    }
   },
   "outputs": [
    {
     "name": "stdout",
     "output_type": "stream",
     "text": [
      "Model: \"model_1\"\n",
      "_________________________________________________________________\n",
      "Layer (type)                 Output Shape              Param #   \n",
      "=================================================================\n",
      "input_2 (InputLayer)         [(None, 100)]             0         \n",
      "_________________________________________________________________\n",
      "embedding_1 (Embedding)      (None, 100, 300)          12000300  \n",
      "_________________________________________________________________\n",
      "conv1d (Conv1D)              (None, 98, 256)           230656    \n",
      "_________________________________________________________________\n",
      "max_pooling1d (MaxPooling1D) (None, 49, 256)           0         \n",
      "_________________________________________________________________\n",
      "conv1d_1 (Conv1D)            (None, 47, 128)           98432     \n",
      "_________________________________________________________________\n",
      "max_pooling1d_1 (MaxPooling1 (None, 23, 128)           0         \n",
      "_________________________________________________________________\n",
      "conv1d_2 (Conv1D)            (None, 21, 64)            24640     \n",
      "_________________________________________________________________\n",
      "dropout_3 (Dropout)          (None, 21, 64)            0         \n",
      "_________________________________________________________________\n",
      "batch_normalization (BatchNo (None, 21, 64)            256       \n",
      "_________________________________________________________________\n",
      "flatten_2 (Flatten)          (None, 1344)              0         \n",
      "_________________________________________________________________\n",
      "dense_3 (Dense)              (None, 256)               344320    \n",
      "_________________________________________________________________\n",
      "dropout_4 (Dropout)          (None, 256)               0         \n",
      "_________________________________________________________________\n",
      "batch_normalization_1 (Batch (None, 256)               1024      \n",
      "_________________________________________________________________\n",
      "dense_4 (Dense)              (None, 128)               32896     \n",
      "_________________________________________________________________\n",
      "dropout_5 (Dropout)          (None, 128)               0         \n",
      "_________________________________________________________________\n",
      "dense_5 (Dense)              (None, 64)                8256      \n",
      "_________________________________________________________________\n",
      "dropout_6 (Dropout)          (None, 64)                0         \n",
      "_________________________________________________________________\n",
      "dense_6 (Dense)              (None, 1)                 65        \n",
      "=================================================================\n",
      "Total params: 12,740,845\n",
      "Trainable params: 739,905\n",
      "Non-trainable params: 12,000,940\n",
      "_________________________________________________________________\n"
     ]
    }
   ],
   "source": [
    "input_layer=Input(shape=(maxlen))\n",
    "embedding_layer=Embedding(input_dim=num_tokens, output_dim=300,weights=[embedding_matrix],trainable=False,embeddings_regularizer =tf.keras.regularizers.l2(0.0001))(input_layer)\n",
    "conv_layer1=Conv1D(256,3,activation=\"relu\",kernel_regularizer = tf.keras.regularizers.l2(0.0001))(embedding_layer)\n",
    "max_pool_layer1=MaxPooling1D(2)(conv_layer1)\n",
    "conv_layer2=Conv1D(128,3,activation=\"relu\",kernel_regularizer = tf.keras.regularizers.l2(0.0001))(max_pool_layer1)\n",
    "max_pool_layer2=MaxPooling1D(2)(conv_layer2)\n",
    "conv_layer3=Conv1D(64,3,activation=\"relu\",kernel_regularizer = tf.keras.regularizers.l2(0.0001))(max_pool_layer2)\n",
    "drop=Dropout(0.5)(conv_layer3)\n",
    "batch_norm=BatchNormalization()(drop)\n",
    "flatten_layer=Flatten()(batch_norm)\n",
    "dense_layer1=Dense(256,activation='relu',kernel_initializer=he_normal(),kernel_regularizer=tf.keras.regularizers.l2(0.0001))(flatten_layer)\n",
    "drop1=Dropout(0.5)(dense_layer1)\n",
    "batch_norm1=BatchNormalization()(drop1)\n",
    "dense_layer2=Dense(128,activation='relu',kernel_initializer=he_normal(),kernel_regularizer=tf.keras.regularizers.l2(0.0001))(batch_norm1)\n",
    "drop2=Dropout(0.5)(dense_layer2)\n",
    "dense_layer3=Dense(64,activation='relu',kernel_initializer=he_normal(),kernel_regularizer=tf.keras.regularizers.l2(0.0001))(drop2)\n",
    "drop3=Dropout(0.5)(dense_layer3)\n",
    "output_layer=Dense(1,activation='sigmoid',kernel_initializer = tf.keras.initializers.he_normal())(drop3)\n",
    "\n",
    "model2=Model([input_layer],[output_layer])\n",
    "\n",
    "model2.compile(loss='binary_crossentropy',optimizer=Adam(lr=0.0001),metrics=['accuracy'])\n",
    "model2.summary()"
   ]
  },
  {
   "cell_type": "code",
   "execution_count": 28,
   "metadata": {
    "execution": {
     "iopub.execute_input": "2022-07-27T10:37:59.106646Z",
     "iopub.status.busy": "2022-07-27T10:37:59.106285Z",
     "iopub.status.idle": "2022-07-27T10:47:15.298815Z",
     "shell.execute_reply": "2022-07-27T10:47:15.297642Z",
     "shell.execute_reply.started": "2022-07-27T10:37:59.106612Z"
    }
   },
   "outputs": [
    {
     "name": "stderr",
     "output_type": "stream",
     "text": [
      "2022-07-27 10:37:59.302790: I tensorflow/core/profiler/lib/profiler_session.cc:131] Profiler session initializing.\n",
      "2022-07-27 10:37:59.302844: I tensorflow/core/profiler/lib/profiler_session.cc:146] Profiler session started.\n",
      "2022-07-27 10:38:00.218263: I tensorflow/core/profiler/lib/profiler_session.cc:164] Profiler session tear down.\n",
      "2022-07-27 10:38:00.218454: I tensorflow/core/profiler/internal/gpu/cupti_tracer.cc:1748] CUPTI activity buffer flushed\n"
     ]
    },
    {
     "name": "stdout",
     "output_type": "stream",
     "text": [
      "Epoch 1/9\n",
      "   1/5516 [..............................] - ETA: 9:35:22 - loss: 100.5031 - accuracy: 0.5078"
     ]
    },
    {
     "name": "stderr",
     "output_type": "stream",
     "text": [
      "2022-07-27 10:38:06.782254: I tensorflow/core/profiler/lib/profiler_session.cc:131] Profiler session initializing.\n",
      "2022-07-27 10:38:06.782299: I tensorflow/core/profiler/lib/profiler_session.cc:146] Profiler session started.\n"
     ]
    },
    {
     "name": "stdout",
     "output_type": "stream",
     "text": [
      "   2/5516 [..............................] - ETA: 1:18:29 - loss: 100.5164 - accuracy: 0.5000"
     ]
    },
    {
     "name": "stderr",
     "output_type": "stream",
     "text": [
      "2022-07-27 10:38:07.802989: I tensorflow/core/profiler/lib/profiler_session.cc:66] Profiler session collecting data.\n",
      "2022-07-27 10:38:07.803983: I tensorflow/core/profiler/internal/gpu/cupti_tracer.cc:1748] CUPTI activity buffer flushed\n",
      "2022-07-27 10:38:07.963884: I tensorflow/core/profiler/internal/gpu/cupti_collector.cc:673]  GpuTracer has collected 360 callback api events and 357 activity events. \n",
      "2022-07-27 10:38:07.975339: I tensorflow/core/profiler/lib/profiler_session.cc:164] Profiler session tear down.\n",
      "2022-07-27 10:38:07.988038: I tensorflow/core/profiler/rpc/client/save_profile.cc:136] Creating directory: logs/20220727-103759/train/plugins/profile/2022_07_27_10_38_07\n",
      "\n",
      "2022-07-27 10:38:07.996239: I tensorflow/core/profiler/rpc/client/save_profile.cc:142] Dumped gzipped tool data for trace.json.gz to logs/20220727-103759/train/plugins/profile/2022_07_27_10_38_07/8567bd2a534f.trace.json.gz\n"
     ]
    },
    {
     "name": "stdout",
     "output_type": "stream",
     "text": [
      "  21/5516 [..............................] - ETA: 6:39 - loss: 100.5269 - accuracy: 0.5000"
     ]
    },
    {
     "name": "stderr",
     "output_type": "stream",
     "text": [
      "2022-07-27 10:38:08.015150: I tensorflow/core/profiler/rpc/client/save_profile.cc:136] Creating directory: logs/20220727-103759/train/plugins/profile/2022_07_27_10_38_07\n",
      "\n",
      "2022-07-27 10:38:08.019194: I tensorflow/core/profiler/rpc/client/save_profile.cc:142] Dumped gzipped tool data for memory_profile.json.gz to logs/20220727-103759/train/plugins/profile/2022_07_27_10_38_07/8567bd2a534f.memory_profile.json.gz\n",
      "2022-07-27 10:38:08.020461: I tensorflow/core/profiler/rpc/client/capture_profile.cc:251] Creating directory: logs/20220727-103759/train/plugins/profile/2022_07_27_10_38_07\n",
      "Dumped tool data for xplane.pb to logs/20220727-103759/train/plugins/profile/2022_07_27_10_38_07/8567bd2a534f.xplane.pb\n",
      "Dumped tool data for overview_page.pb to logs/20220727-103759/train/plugins/profile/2022_07_27_10_38_07/8567bd2a534f.overview_page.pb\n",
      "Dumped tool data for input_pipeline.pb to logs/20220727-103759/train/plugins/profile/2022_07_27_10_38_07/8567bd2a534f.input_pipeline.pb\n",
      "Dumped tool data for tensorflow_stats.pb to logs/20220727-103759/train/plugins/profile/2022_07_27_10_38_07/8567bd2a534f.tensorflow_stats.pb\n",
      "Dumped tool data for kernel_stats.pb to logs/20220727-103759/train/plugins/profile/2022_07_27_10_38_07/8567bd2a534f.kernel_stats.pb\n",
      "\n"
     ]
    },
    {
     "name": "stdout",
     "output_type": "stream",
     "text": [
      "5516/5516 [==============================] - 68s 11ms/step - loss: 99.9846 - accuracy: 0.5281 - val_loss: 99.8815 - val_accuracy: 0.6203\n",
      "Epoch 2/9\n",
      "5516/5516 [==============================] - 59s 11ms/step - loss: 99.8362 - accuracy: 0.6401 - val_loss: 99.7945 - val_accuracy: 0.6715\n",
      "Epoch 3/9\n",
      "5516/5516 [==============================] - 60s 11ms/step - loss: 99.7709 - accuracy: 0.6842 - val_loss: 99.7521 - val_accuracy: 0.6904\n",
      "Epoch 4/9\n",
      "5516/5516 [==============================] - 58s 10ms/step - loss: 99.7311 - accuracy: 0.7047 - val_loss: 99.7314 - val_accuracy: 0.6953\n",
      "Epoch 5/9\n",
      "5516/5516 [==============================] - 59s 11ms/step - loss: 99.7030 - accuracy: 0.7200 - val_loss: 99.7176 - val_accuracy: 0.6974\n",
      "Epoch 6/9\n",
      "5516/5516 [==============================] - 58s 10ms/step - loss: 99.6801 - accuracy: 0.7344 - val_loss: 99.7170 - val_accuracy: 0.6954\n",
      "Epoch 7/9\n",
      "5516/5516 [==============================] - 58s 11ms/step - loss: 99.6596 - accuracy: 0.7478 - val_loss: 99.7156 - val_accuracy: 0.6932\n",
      "Epoch 8/9\n",
      "5516/5516 [==============================] - 59s 11ms/step - loss: 99.6416 - accuracy: 0.7597 - val_loss: 99.7210 - val_accuracy: 0.6909\n",
      "Epoch 9/9\n",
      "5516/5516 [==============================] - 59s 11ms/step - loss: 99.6239 - accuracy: 0.7712 - val_loss: 99.7235 - val_accuracy: 0.6882\n"
     ]
    }
   ],
   "source": [
    "from tensorflow.keras.models import load_model\n",
    "# Save the model\n",
    "model.save('.//model_cnn123.h5')\n",
    "log_dir = os.path.join(\"logs\", datetime.datetime.now().strftime(\"%Y%m%d-%H%M%S\"))\n",
    "tensorboard_callback = tf.keras.callbacks.TensorBoard(log_dir=log_dir,histogram_freq=1,write_graph=True)\n",
    "\n",
    "history=model2.fit(padded_sequences_train,y_train,epochs=9,verbose=1,batch_size=128,\n",
    "         validation_data=(padded_sequences_test,y_test),callbacks=[tensorboard_callback])"
   ]
  },
  {
   "cell_type": "code",
   "execution_count": 29,
   "metadata": {
    "execution": {
     "iopub.execute_input": "2022-07-27T10:48:19.768899Z",
     "iopub.status.busy": "2022-07-27T10:48:19.767808Z",
     "iopub.status.idle": "2022-07-27T10:48:20.216460Z",
     "shell.execute_reply": "2022-07-27T10:48:20.215451Z",
     "shell.execute_reply.started": "2022-07-27T10:48:19.768853Z"
    }
   },
   "outputs": [
    {
     "data": {
      "image/png": "[encoded data removed]",
      "text/plain": [
       "<Figure size 576x576 with 1 Axes>"
      ]
     },
     "metadata": {
      "needs_background": "light"
     },
     "output_type": "display_data"
    },
    {
     "data": {
      "image/png": "[encoded data removed]",
      "text/plain": [
       "<Figure size 576x576 with 1 Axes>"
      ]
     },
     "metadata": {
      "needs_background": "light"
     },
     "output_type": "display_data"
    }
   ],
   "source": [
    "# machine learning mastery\n",
    "plt.figure(figsize=(8,8))\n",
    "plt.plot(history.history['accuracy'])\n",
    "plt.plot(history.history['val_accuracy'])\n",
    "plt.title('model accuracy')\n",
    "plt.ylabel('accuracy')\n",
    "plt.xlabel('epoch')\n",
    "plt.legend(['train', 'test'], loc='upper left')\n",
    "plt.show()\n",
    "\n",
    "\n",
    "plt.figure(figsize=(8,8))\n",
    "plt.plot(history.history['loss'])\n",
    "plt.plot(history.history['val_loss'])\n",
    "plt.title('model loss')\n",
    "plt.ylabel('loss')\n",
    "plt.xlabel('epoch')\n",
    "plt.legend(['train', 'test'], loc='upper left')\n",
    "plt.show()"
   ]
  },
  {
   "cell_type": "code",
   "execution_count": 30,
   "metadata": {
    "execution": {
     "iopub.execute_input": "2022-07-27T10:48:34.593688Z",
     "iopub.status.busy": "2022-07-27T10:48:34.593316Z",
     "iopub.status.idle": "2022-07-27T10:48:49.801301Z",
     "shell.execute_reply": "2022-07-27T10:48:49.800375Z",
     "shell.execute_reply.started": "2022-07-27T10:48:34.593655Z"
    }
   },
   "outputs": [
    {
     "name": "stdout",
     "output_type": "stream",
     "text": [
      "[1 0 1 ... 1 1 1]\n",
      "302559\n"
     ]
    }
   ],
   "source": [
    "y_pred=model2.predict(padded_sequences_test)\n",
    "\n",
    "print(y_test)\n",
    "print(len(y_test))"
   ]
  },
  {
   "cell_type": "code",
   "execution_count": 31,
   "metadata": {
    "execution": {
     "iopub.execute_input": "2022-07-27T10:48:49.804353Z",
     "iopub.status.busy": "2022-07-27T10:48:49.803210Z",
     "iopub.status.idle": "2022-07-27T10:48:50.394146Z",
     "shell.execute_reply": "2022-07-27T10:48:50.392989Z",
     "shell.execute_reply.started": "2022-07-27T10:48:49.804310Z"
    }
   },
   "outputs": [
    {
     "name": "stdout",
     "output_type": "stream",
     "text": [
      "[[0.9327502 ]\n",
      " [0.23465635]\n",
      " [0.75118935]\n",
      " ...\n",
      " [0.85754234]\n",
      " [0.696778  ]\n",
      " [0.57824576]]\n",
      "302559\n"
     ]
    }
   ],
   "source": [
    "print(y_pred)\n",
    "\n",
    "result=list(map(lambda x:1 if x>=0.5 else 0,y_pred))\n",
    "print(len(result))"
   ]
  },
  {
   "cell_type": "code",
   "execution_count": 32,
   "metadata": {
    "execution": {
     "iopub.execute_input": "2022-07-27T10:48:50.396246Z",
     "iopub.status.busy": "2022-07-27T10:48:50.395798Z",
     "iopub.status.idle": "2022-07-27T10:48:50.569878Z",
     "shell.execute_reply": "2022-07-27T10:48:50.568913Z",
     "shell.execute_reply.started": "2022-07-27T10:48:50.396201Z"
    }
   },
   "outputs": [],
   "source": [
    "cf_matrix=(confusion_matrix(y_test,result))"
   ]
  },
  {
   "cell_type": "code",
   "execution_count": 33,
   "metadata": {
    "execution": {
     "iopub.execute_input": "2022-07-27T10:49:20.260690Z",
     "iopub.status.busy": "2022-07-27T10:49:20.260328Z",
     "iopub.status.idle": "2022-07-27T10:49:20.493744Z",
     "shell.execute_reply": "2022-07-27T10:49:20.492764Z",
     "shell.execute_reply.started": "2022-07-27T10:49:20.260659Z"
    }
   },
   "outputs": [
    {
     "data": {
      "image/png": "[encoded data removed]",
      "text/plain": [
       "<Figure size 720x720 with 2 Axes>"
      ]
     },
     "metadata": {
      "needs_background": "light"
     },
     "output_type": "display_data"
    }
   ],
   "source": [
    "# https://medium.com/@dtuk81/confusion-matrix-visualization-fc31e3f30fea\n",
    "plt.figure(figsize=(10,10))\n",
    "group_names = ['True Neg','False Pos','False Neg','True Pos']\n",
    "group_counts = [\"{0:0.0f}\".format(value) for value in\n",
    "                cf_matrix.flatten()]\n",
    "group_percentages = [\"{0:.2%}\".format(value) for value in\n",
    "                     cf_matrix.flatten()/np.sum(cf_matrix)]\n",
    "labels = [f\"{v1}\\n{v2}\\n{v3}\" for v1, v2, v3 in\n",
    "          zip(group_names,group_counts,group_percentages)]\n",
    "labels = np.asarray(labels).reshape(2,2)\n",
    "sns.heatmap(cf_matrix, annot=labels, fmt='', cmap='Blues')\n",
    "plt.show()"
   ]
  },
  {
   "cell_type": "code",
   "execution_count": 34,
   "metadata": {
    "execution": {
     "iopub.execute_input": "2022-07-27T10:49:24.568157Z",
     "iopub.status.busy": "2022-07-27T10:49:24.567075Z",
     "iopub.status.idle": "2022-07-27T10:49:25.237892Z",
     "shell.execute_reply": "2022-07-27T10:49:25.236809Z",
     "shell.execute_reply.started": "2022-07-27T10:49:24.568088Z"
    }
   },
   "outputs": [
    {
     "name": "stdout",
     "output_type": "stream",
     "text": [
      "              precision    recall  f1-score   support\n",
      "\n",
      "           0       0.68      0.71      0.69    151122\n",
      "           1       0.70      0.67      0.68    151437\n",
      "\n",
      "    accuracy                           0.69    302559\n",
      "   macro avg       0.69      0.69      0.69    302559\n",
      "weighted avg       0.69      0.69      0.69    302559\n",
      "\n"
     ]
    }
   ],
   "source": [
    "print(classification_report(y_test,result))"
   ]
  },
  {
   "cell_type": "code",
   "execution_count": 35,
   "metadata": {
    "execution": {
     "iopub.execute_input": "2022-07-27T10:49:28.389903Z",
     "iopub.status.busy": "2022-07-27T10:49:28.389507Z",
     "iopub.status.idle": "2022-07-27T10:49:29.174906Z",
     "shell.execute_reply": "2022-07-27T10:49:29.173702Z",
     "shell.execute_reply.started": "2022-07-27T10:49:28.389869Z"
    }
   },
   "outputs": [
    {
     "data": {
      "image/png": "[encoded data removed]",
      "text/plain": [
       "<IPython.core.display.Image object>"
      ]
     },
     "execution_count": 35,
     "metadata": {},
     "output_type": "execute_result"
    }
   ],
   "source": [
    "tf.keras.utils.plot_model(\n",
    "    model2,\n",
    "    to_file=\"model.png\",\n",
    "    show_shapes=False,\n",
    "    show_dtype=False,\n",
    "    show_layer_names=True,\n",
    "    rankdir=\"TB\",\n",
    "    expand_nested=False,\n",
    "    dpi=96,\n",
    "    layer_range=None,\n",
    "    \n",
    ")"
   ]
  },
  {
   "cell_type": "markdown",
   "metadata": {},
   "source": [
    "# Model 3 CNN+LSTM"
   ]
  },
  {
   "cell_type": "code",
   "execution_count": 36,
   "metadata": {
    "execution": {
     "iopub.execute_input": "2022-07-27T10:49:34.944621Z",
     "iopub.status.busy": "2022-07-27T10:49:34.943854Z",
     "iopub.status.idle": "2022-07-27T10:49:35.951651Z",
     "shell.execute_reply": "2022-07-27T10:49:35.949477Z",
     "shell.execute_reply.started": "2022-07-27T10:49:34.944579Z"
    }
   },
   "outputs": [
    {
     "name": "stdout",
     "output_type": "stream",
     "text": [
      "Model: \"model_2\"\n",
      "_________________________________________________________________\n",
      "Layer (type)                 Output Shape              Param #   \n",
      "=================================================================\n",
      "input_3 (InputLayer)         [(None, 100)]             0         \n",
      "_________________________________________________________________\n",
      "embedding_2 (Embedding)      (None, 100, 300)          12000300  \n",
      "_________________________________________________________________\n",
      "conv1d_3 (Conv1D)            (None, 98, 128)           115328    \n",
      "_________________________________________________________________\n",
      "max_pooling1d_2 (MaxPooling1 (None, 49, 128)           0         \n",
      "_________________________________________________________________\n",
      "conv1d_4 (Conv1D)            (None, 47, 64)            24640     \n",
      "_________________________________________________________________\n",
      "dropout_7 (Dropout)          (None, 47, 64)            0         \n",
      "_________________________________________________________________\n",
      "batch_normalization_2 (Batch (None, 47, 64)            256       \n",
      "_________________________________________________________________\n",
      "bidirectional_2 (Bidirection (None, 47, 256)           197632    \n",
      "_________________________________________________________________\n",
      "dropout_8 (Dropout)          (None, 47, 256)           0         \n",
      "_________________________________________________________________\n",
      "bidirectional_3 (Bidirection (None, 47, 128)           164352    \n",
      "_________________________________________________________________\n",
      "dropout_9 (Dropout)          (None, 47, 128)           0         \n",
      "_________________________________________________________________\n",
      "batch_normalization_3 (Batch (None, 47, 128)           512       \n",
      "_________________________________________________________________\n",
      "flatten_3 (Flatten)          (None, 6016)              0         \n",
      "_________________________________________________________________\n",
      "dense_7 (Dense)              (None, 256)               1540352   \n",
      "_________________________________________________________________\n",
      "dense_8 (Dense)              (None, 128)               32896     \n",
      "_________________________________________________________________\n",
      "dropout_10 (Dropout)         (None, 128)               0         \n",
      "_________________________________________________________________\n",
      "batch_normalization_4 (Batch (None, 128)               512       \n",
      "_________________________________________________________________\n",
      "dense_9 (Dense)              (None, 64)                8256      \n",
      "_________________________________________________________________\n",
      "dropout_11 (Dropout)         (None, 64)                0         \n",
      "_________________________________________________________________\n",
      "dense_10 (Dense)             (None, 32)                2080      \n",
      "_________________________________________________________________\n",
      "dropout_12 (Dropout)         (None, 32)                0         \n",
      "_________________________________________________________________\n",
      "batch_normalization_5 (Batch (None, 32)                128       \n",
      "_________________________________________________________________\n",
      "dense_11 (Dense)             (None, 32)                1056      \n",
      "_________________________________________________________________\n",
      "flatten_4 (Flatten)          (None, 32)                0         \n",
      "_________________________________________________________________\n",
      "dense_12 (Dense)             (None, 1)                 33        \n",
      "=================================================================\n",
      "Total params: 14,088,333\n",
      "Trainable params: 2,087,329\n",
      "Non-trainable params: 12,001,004\n",
      "_________________________________________________________________\n"
     ]
    }
   ],
   "source": [
    "input_layer=Input(shape=(maxlen))\n",
    "embedding_layer=Embedding(input_dim=num_tokens, output_dim=300,weights=[embedding_matrix],trainable=False,embeddings_regularizer =tf.keras.regularizers.l2(0.0001))(input_layer)\n",
    "conv_layer1=Conv1D(128,3,activation=\"relu\",kernel_regularizer = tf.keras.regularizers.l2(0.0001))(embedding_layer)\n",
    "max_pool_layer1=MaxPooling1D(2)(conv_layer1)\n",
    "conv_layer2=Conv1D(64,3,activation=\"relu\",kernel_regularizer = tf.keras.regularizers.l2(0.0001))(max_pool_layer1)\n",
    "max_pool_layer2=MaxPooling1D(2)(conv_layer2)\n",
    "# conv_layer3=Conv1D(64,3,activation=\"relu\",kernel_regularizer = tf.keras.regularizers.l2(0.0001))(max_pool_layer2)\n",
    "drop=Dropout(0.5)(conv_layer2)\n",
    "batch_norm=BatchNormalization()(drop)\n",
    "lstm_layer=Bidirectional(LSTM(128,return_sequences=True))(batch_norm)\n",
    "drop1=Dropout(0.5)(lstm_layer)\n",
    "lstm_layer1=Bidirectional(LSTM(64,return_sequences=True))(drop1)\n",
    "drop2=Dropout(0.5)(lstm_layer1)\n",
    "batch_norm1=BatchNormalization()(drop2)\n",
    "flatten_layer1=Flatten()(batch_norm1)\n",
    "dense_layer1=Dense(256,activation='relu',kernel_initializer=he_normal(),kernel_regularizer=tf.keras.regularizers.l2(0.0001))(flatten_layer1)\n",
    "dense_layer2=Dense(128,activation='relu',kernel_initializer=he_normal(),kernel_regularizer=tf.keras.regularizers.l2(0.0001))(dense_layer1)\n",
    "drop3=Dropout(0.5)(dense_layer2)\n",
    "batch_norm2=BatchNormalization()(drop3)\n",
    "dense_layer2=Dense(64,activation='relu',kernel_initializer=he_normal(),kernel_regularizer=tf.keras.regularizers.l2(0.0001))(batch_norm2)\n",
    "drop4=Dropout(0.5)(dense_layer2)\n",
    "dense_layer3=Dense(32,activation='relu',kernel_initializer=he_normal(),kernel_regularizer=tf.keras.regularizers.l2(0.0001))(drop4)\n",
    "drop5=Dropout(0.5)(dense_layer3)\n",
    "batch_norm2=BatchNormalization()(drop5)\n",
    "dense_layer4=Dense(32,activation='relu',kernel_initializer=he_normal(),kernel_regularizer=tf.keras.regularizers.l2(0.0001))(batch_norm2)\n",
    "flatten_layer2=Flatten()(dense_layer4)\n",
    "\n",
    "output_layer=Dense(1,activation='sigmoid',kernel_initializer = tf.keras.initializers.he_normal())(flatten_layer2)\n",
    "\n",
    "model3=Model([input_layer],[output_layer])\n",
    "\n",
    "model3.compile(loss='binary_crossentropy',optimizer=Adam(lr=0.0001),metrics=['accuracy'])\n",
    "model3.summary()"
   ]
  },
  {
   "cell_type": "code",
   "execution_count": 37,
   "metadata": {
    "execution": {
     "iopub.execute_input": "2022-07-27T10:49:40.245798Z",
     "iopub.status.busy": "2022-07-27T10:49:40.245448Z",
     "iopub.status.idle": "2022-07-27T11:18:45.601849Z",
     "shell.execute_reply": "2022-07-27T11:18:45.600863Z",
     "shell.execute_reply.started": "2022-07-27T10:49:40.245767Z"
    }
   },
   "outputs": [
    {
     "name": "stderr",
     "output_type": "stream",
     "text": [
      "2022-07-27 10:49:40.435711: I tensorflow/core/profiler/lib/profiler_session.cc:131] Profiler session initializing.\n",
      "2022-07-27 10:49:40.435772: I tensorflow/core/profiler/lib/profiler_session.cc:146] Profiler session started.\n",
      "2022-07-27 10:49:41.413629: I tensorflow/core/profiler/lib/profiler_session.cc:164] Profiler session tear down.\n",
      "2022-07-27 10:49:41.413875: I tensorflow/core/profiler/internal/gpu/cupti_tracer.cc:1748] CUPTI activity buffer flushed\n"
     ]
    },
    {
     "name": "stdout",
     "output_type": "stream",
     "text": [
      "Epoch 1/12\n",
      "   1/5516 [..............................] - ETA: 9:50:16 - loss: 100.0365 - accuracy: 0.4688"
     ]
    },
    {
     "name": "stderr",
     "output_type": "stream",
     "text": [
      "2022-07-27 10:49:48.485688: I tensorflow/core/profiler/lib/profiler_session.cc:131] Profiler session initializing.\n",
      "2022-07-27 10:49:48.485961: I tensorflow/core/profiler/lib/profiler_session.cc:146] Profiler session started.\n"
     ]
    },
    {
     "name": "stdout",
     "output_type": "stream",
     "text": [
      "   2/5516 [..............................] - ETA: 1:53:37 - loss: 100.0082 - accuracy: 0.5000"
     ]
    },
    {
     "name": "stderr",
     "output_type": "stream",
     "text": [
      "2022-07-27 10:49:49.565006: I tensorflow/core/profiler/lib/profiler_session.cc:66] Profiler session collecting data.\n",
      "2022-07-27 10:49:49.566775: I tensorflow/core/profiler/internal/gpu/cupti_tracer.cc:1748] CUPTI activity buffer flushed\n",
      "2022-07-27 10:49:49.729787: I tensorflow/core/profiler/internal/gpu/cupti_collector.cc:673]  GpuTracer has collected 1662 callback api events and 1659 activity events. \n",
      "2022-07-27 10:49:49.759446: I tensorflow/core/profiler/lib/profiler_session.cc:164] Profiler session tear down.\n"
     ]
    },
    {
     "name": "stdout",
     "output_type": "stream",
     "text": [
      "   6/5516 [..............................] - ETA: 34:10 - loss: 100.0089 - accuracy: 0.5078  "
     ]
    },
    {
     "name": "stderr",
     "output_type": "stream",
     "text": [
      "2022-07-27 10:49:49.800484: I tensorflow/core/profiler/rpc/client/save_profile.cc:136] Creating directory: logs/20220727-104940/train/plugins/profile/2022_07_27_10_49_49\n",
      "\n",
      "2022-07-27 10:49:49.826755: I tensorflow/core/profiler/rpc/client/save_profile.cc:142] Dumped gzipped tool data for trace.json.gz to logs/20220727-104940/train/plugins/profile/2022_07_27_10_49_49/8567bd2a534f.trace.json.gz\n",
      "2022-07-27 10:49:49.870337: I tensorflow/core/profiler/rpc/client/save_profile.cc:136] Creating directory: logs/20220727-104940/train/plugins/profile/2022_07_27_10_49_49\n",
      "\n",
      "2022-07-27 10:49:49.877178: I tensorflow/core/profiler/rpc/client/save_profile.cc:142] Dumped gzipped tool data for memory_profile.json.gz to logs/20220727-104940/train/plugins/profile/2022_07_27_10_49_49/8567bd2a534f.memory_profile.json.gz\n",
      "2022-07-27 10:49:49.878823: I tensorflow/core/profiler/rpc/client/capture_profile.cc:251] Creating directory: logs/20220727-104940/train/plugins/profile/2022_07_27_10_49_49\n",
      "Dumped tool data for xplane.pb to logs/20220727-104940/train/plugins/profile/2022_07_27_10_49_49/8567bd2a534f.xplane.pb\n",
      "Dumped tool data for overview_page.pb to logs/20220727-104940/train/plugins/profile/2022_07_27_10_49_49/8567bd2a534f.overview_page.pb\n",
      "Dumped tool data for input_pipeline.pb to logs/20220727-104940/train/plugins/profile/2022_07_27_10_49_49/8567bd2a534f.input_pipeline.pb\n",
      "Dumped tool data for tensorflow_stats.pb to logs/20220727-104940/train/plugins/profile/2022_07_27_10_49_49/8567bd2a534f.tensorflow_stats.pb\n",
      "Dumped tool data for kernel_stats.pb to logs/20220727-104940/train/plugins/profile/2022_07_27_10_49_49/8567bd2a534f.kernel_stats.pb\n",
      "\n"
     ]
    },
    {
     "name": "stdout",
     "output_type": "stream",
     "text": [
      "5516/5516 [==============================] - 169s 29ms/step - loss: 99.9280 - accuracy: 0.5246 - val_loss: 99.8763 - val_accuracy: 0.6150\n",
      "Epoch 2/12\n",
      "5516/5516 [==============================] - 141s 26ms/step - loss: 99.8410 - accuracy: 0.6336 - val_loss: 99.7876 - val_accuracy: 0.6697\n",
      "Epoch 3/12\n",
      "5516/5516 [==============================] - 160s 29ms/step - loss: 99.7671 - accuracy: 0.6707 - val_loss: 99.7466 - val_accuracy: 0.6798\n",
      "Epoch 4/12\n",
      "5516/5516 [==============================] - 140s 25ms/step - loss: 99.7298 - accuracy: 0.6869 - val_loss: 99.7241 - val_accuracy: 0.6910\n",
      "Epoch 5/12\n",
      "5516/5516 [==============================] - 139s 25ms/step - loss: 99.7104 - accuracy: 0.6978 - val_loss: 99.7140 - val_accuracy: 0.6943\n",
      "Epoch 6/12\n",
      "5516/5516 [==============================] - 138s 25ms/step - loss: 99.6966 - accuracy: 0.7059 - val_loss: 99.7075 - val_accuracy: 0.6956\n",
      "Epoch 7/12\n",
      "5516/5516 [==============================] - 139s 25ms/step - loss: 99.6857 - accuracy: 0.7139 - val_loss: 99.7012 - val_accuracy: 0.6973\n",
      "Epoch 8/12\n",
      "5516/5516 [==============================] - 139s 25ms/step - loss: 99.6764 - accuracy: 0.7197 - val_loss: 99.7021 - val_accuracy: 0.6966\n",
      "Epoch 9/12\n",
      "5516/5516 [==============================] - 139s 25ms/step - loss: 99.6687 - accuracy: 0.7255 - val_loss: 99.6978 - val_accuracy: 0.6988\n",
      "Epoch 10/12\n",
      "5516/5516 [==============================] - 139s 25ms/step - loss: 99.6619 - accuracy: 0.7304 - val_loss: 99.6974 - val_accuracy: 0.6982\n",
      "Epoch 11/12\n",
      "5516/5516 [==============================] - 139s 25ms/step - loss: 99.6556 - accuracy: 0.7354 - val_loss: 99.6967 - val_accuracy: 0.6982\n",
      "Epoch 12/12\n",
      "5516/5516 [==============================] - 139s 25ms/step - loss: 99.6497 - accuracy: 0.7401 - val_loss: 99.6993 - val_accuracy: 0.6961\n"
     ]
    }
   ],
   "source": [
    "from tensorflow.keras.models import load_model\n",
    "# Save the model\n",
    "model.save('.//model_cnn_lstm123.h5')\n",
    "log_dir = os.path.join(\"logs\", datetime.datetime.now().strftime(\"%Y%m%d-%H%M%S\"))\n",
    "tensorboard_callback = tf.keras.callbacks.TensorBoard(log_dir=log_dir,histogram_freq=1,write_graph=True)\n",
    "\n",
    "history=model3.fit(padded_sequences_train,y_train,epochs=12,verbose=1,batch_size=128,\n",
    "         validation_data=(padded_sequences_test,y_test),callbacks=[tensorboard_callback])"
   ]
  },
  {
   "cell_type": "code",
   "execution_count": 38,
   "metadata": {
    "execution": {
     "iopub.execute_input": "2022-07-27T11:20:00.448957Z",
     "iopub.status.busy": "2022-07-27T11:20:00.448482Z",
     "iopub.status.idle": "2022-07-27T11:20:00.830669Z",
     "shell.execute_reply": "2022-07-27T11:20:00.829799Z",
     "shell.execute_reply.started": "2022-07-27T11:20:00.448924Z"
    }
   },
   "outputs": [
    {
     "data": {
      "image/png": "[encoded data removed]",
      "text/plain": [
       "<Figure size 576x576 with 1 Axes>"
      ]
     },
     "metadata": {
      "needs_background": "light"
     },
     "output_type": "display_data"
    },
    {
     "data": {
      "image/png": "[encoded data removed]",
      "text/plain": [
       "<Figure size 576x576 with 1 Axes>"
      ]
     },
     "metadata": {
      "needs_background": "light"
     },
     "output_type": "display_data"
    }
   ],
   "source": [
    "# machine learning mastery\n",
    "plt.figure(figsize=(8,8))\n",
    "plt.plot(history.history['accuracy'])\n",
    "plt.plot(history.history['val_accuracy'])\n",
    "plt.title('model accuracy')\n",
    "plt.ylabel('accuracy')\n",
    "plt.xlabel('epoch')\n",
    "plt.legend(['train', 'test'], loc='upper left')\n",
    "plt.show()\n",
    "\n",
    "\n",
    "plt.figure(figsize=(8,8))\n",
    "plt.plot(history.history['loss'])\n",
    "plt.plot(history.history['val_loss'])\n",
    "plt.title('model loss')\n",
    "plt.ylabel('loss')\n",
    "plt.xlabel('epoch')\n",
    "plt.legend(['train', 'test'], loc='upper left')\n",
    "plt.show()"
   ]
  },
  {
   "cell_type": "code",
   "execution_count": 40,
   "metadata": {
    "execution": {
     "iopub.execute_input": "2022-07-27T11:20:51.367895Z",
     "iopub.status.busy": "2022-07-27T11:20:51.367481Z",
     "iopub.status.idle": "2022-07-27T11:21:40.337198Z",
     "shell.execute_reply": "2022-07-27T11:21:40.336270Z",
     "shell.execute_reply.started": "2022-07-27T11:20:51.367858Z"
    }
   },
   "outputs": [
    {
     "name": "stdout",
     "output_type": "stream",
     "text": [
      "[1 0 1 ... 1 1 1]\n",
      "302559\n"
     ]
    }
   ],
   "source": [
    "y_pred=model3.predict(padded_sequences_test)\n",
    "\n",
    "\n",
    "print(y_test)\n",
    "print(len(y_test))"
   ]
  },
  {
   "cell_type": "code",
   "execution_count": 41,
   "metadata": {
    "execution": {
     "iopub.execute_input": "2022-07-27T11:23:26.773851Z",
     "iopub.status.busy": "2022-07-27T11:23:26.773488Z",
     "iopub.status.idle": "2022-07-27T11:23:27.379343Z",
     "shell.execute_reply": "2022-07-27T11:23:27.378422Z",
     "shell.execute_reply.started": "2022-07-27T11:23:26.773820Z"
    }
   },
   "outputs": [
    {
     "name": "stdout",
     "output_type": "stream",
     "text": [
      "[[0.8907525 ]\n",
      " [0.57749057]\n",
      " [0.56935966]\n",
      " ...\n",
      " [0.7955085 ]\n",
      " [0.6390808 ]\n",
      " [0.37687612]]\n",
      "302559\n"
     ]
    }
   ],
   "source": [
    "print(y_pred)\n",
    "\n",
    "result=list(map(lambda x:1 if x>=0.5 else 0,y_pred))\n",
    "print(len(result))"
   ]
  },
  {
   "cell_type": "code",
   "execution_count": 42,
   "metadata": {
    "execution": {
     "iopub.execute_input": "2022-07-27T11:23:27.701932Z",
     "iopub.status.busy": "2022-07-27T11:23:27.701593Z",
     "iopub.status.idle": "2022-07-27T11:23:27.872569Z",
     "shell.execute_reply": "2022-07-27T11:23:27.871334Z",
     "shell.execute_reply.started": "2022-07-27T11:23:27.701900Z"
    }
   },
   "outputs": [],
   "source": [
    "cf_matrix=(confusion_matrix(y_test,result))"
   ]
  },
  {
   "cell_type": "code",
   "execution_count": 43,
   "metadata": {
    "execution": {
     "iopub.execute_input": "2022-07-27T11:23:28.090922Z",
     "iopub.status.busy": "2022-07-27T11:23:28.090615Z",
     "iopub.status.idle": "2022-07-27T11:23:28.325902Z",
     "shell.execute_reply": "2022-07-27T11:23:28.324993Z",
     "shell.execute_reply.started": "2022-07-27T11:23:28.090893Z"
    }
   },
   "outputs": [
    {
     "data": {
      "image/png": "[encoded data removed]",
      "text/plain": [
       "<Figure size 720x720 with 2 Axes>"
      ]
     },
     "metadata": {
      "needs_background": "light"
     },
     "output_type": "display_data"
    }
   ],
   "source": [
    "# https://medium.com/@dtuk81/confusion-matrix-visualization-fc31e3f30fea\n",
    "plt.figure(figsize=(10,10))\n",
    "group_names = ['True Neg','False Pos','False Neg','True Pos']\n",
    "group_counts = [\"{0:0.0f}\".format(value) for value in\n",
    "                cf_matrix.flatten()]\n",
    "group_percentages = [\"{0:.2%}\".format(value) for value in\n",
    "                     cf_matrix.flatten()/np.sum(cf_matrix)]\n",
    "labels = [f\"{v1}\\n{v2}\\n{v3}\" for v1, v2, v3 in\n",
    "          zip(group_names,group_counts,group_percentages)]\n",
    "labels = np.asarray(labels).reshape(2,2)\n",
    "sns.heatmap(cf_matrix, annot=labels, fmt='', cmap='Blues')\n",
    "plt.show()"
   ]
  },
  {
   "cell_type": "code",
   "execution_count": 44,
   "metadata": {
    "execution": {
     "iopub.execute_input": "2022-07-27T11:23:28.842978Z",
     "iopub.status.busy": "2022-07-27T11:23:28.841827Z",
     "iopub.status.idle": "2022-07-27T11:23:29.500497Z",
     "shell.execute_reply": "2022-07-27T11:23:29.499436Z",
     "shell.execute_reply.started": "2022-07-27T11:23:28.842936Z"
    }
   },
   "outputs": [
    {
     "name": "stdout",
     "output_type": "stream",
     "text": [
      "              precision    recall  f1-score   support\n",
      "\n",
      "           0       0.68      0.75      0.71    151122\n",
      "           1       0.72      0.64      0.68    151437\n",
      "\n",
      "    accuracy                           0.70    302559\n",
      "   macro avg       0.70      0.70      0.70    302559\n",
      "weighted avg       0.70      0.70      0.70    302559\n",
      "\n"
     ]
    }
   ],
   "source": [
    "print(classification_report(y_test,result))"
   ]
  },
  {
   "cell_type": "code",
   "execution_count": 45,
   "metadata": {
    "execution": {
     "iopub.execute_input": "2022-07-27T11:23:29.503374Z",
     "iopub.status.busy": "2022-07-27T11:23:29.502445Z",
     "iopub.status.idle": "2022-07-27T11:23:30.122603Z",
     "shell.execute_reply": "2022-07-27T11:23:30.121161Z",
     "shell.execute_reply.started": "2022-07-27T11:23:29.503334Z"
    }
   },
   "outputs": [
    {
     "data": {
      "image/png": "[encoded data removed]",
      "text/plain": [
       "<IPython.core.display.Image object>"
      ]
     },
     "execution_count": 45,
     "metadata": {},
     "output_type": "execute_result"
    }
   ],
   "source": [
    "tf.keras.utils.plot_model(\n",
    "    model3,\n",
    "    to_file=\"model.png\",\n",
    "    show_shapes=False,\n",
    "    show_dtype=False,\n",
    "    show_layer_names=True,\n",
    "    rankdir=\"TB\",\n",
    "    expand_nested=False,\n",
    "    dpi=96,\n",
    "    layer_range=None,\n",
    "   \n",
    ")"
   ]
  },
  {
   "cell_type": "markdown",
   "metadata": {},
   "source": [
    "# Model 4 CNN+LSTM+Feature Engineering"
   ]
  },
  {
   "cell_type": "code",
   "execution_count": 18,
   "metadata": {
    "execution": {
     "iopub.execute_input": "2022-07-27T12:33:10.954270Z",
     "iopub.status.busy": "2022-07-27T12:33:10.953675Z",
     "iopub.status.idle": "2022-07-27T12:33:20.031829Z",
     "shell.execute_reply": "2022-07-27T12:33:20.030848Z",
     "shell.execute_reply.started": "2022-07-27T12:33:10.954226Z"
    }
   },
   "outputs": [
    {
     "name": "stderr",
     "output_type": "stream",
     "text": [
      "2022-07-27 12:33:11.029007: I tensorflow/stream_executor/cuda/cuda_gpu_executor.cc:937] successful NUMA node read from SysFS had negative value (-1), but there must be at least one NUMA node, so returning NUMA node zero\n",
      "2022-07-27 12:33:11.030263: I tensorflow/stream_executor/cuda/cuda_gpu_executor.cc:937] successful NUMA node read from SysFS had negative value (-1), but there must be at least one NUMA node, so returning NUMA node zero\n",
      "2022-07-27 12:33:11.030996: I tensorflow/stream_executor/cuda/cuda_gpu_executor.cc:937] successful NUMA node read from SysFS had negative value (-1), but there must be at least one NUMA node, so returning NUMA node zero\n",
      "2022-07-27 12:33:11.031840: I tensorflow/core/platform/cpu_feature_guard.cc:142] This TensorFlow binary is optimized with oneAPI Deep Neural Network Library (oneDNN) to use the following CPU instructions in performance-critical operations:  AVX2 AVX512F FMA\n",
      "To enable them in other operations, rebuild TensorFlow with the appropriate compiler flags.\n",
      "2022-07-27 12:33:11.032136: I tensorflow/stream_executor/cuda/cuda_gpu_executor.cc:937] successful NUMA node read from SysFS had negative value (-1), but there must be at least one NUMA node, so returning NUMA node zero\n",
      "2022-07-27 12:33:11.032913: I tensorflow/stream_executor/cuda/cuda_gpu_executor.cc:937] successful NUMA node read from SysFS had negative value (-1), but there must be at least one NUMA node, so returning NUMA node zero\n",
      "2022-07-27 12:33:11.033637: I tensorflow/stream_executor/cuda/cuda_gpu_executor.cc:937] successful NUMA node read from SysFS had negative value (-1), but there must be at least one NUMA node, so returning NUMA node zero\n",
      "2022-07-27 12:33:18.593210: I tensorflow/stream_executor/cuda/cuda_gpu_executor.cc:937] successful NUMA node read from SysFS had negative value (-1), but there must be at least one NUMA node, so returning NUMA node zero\n",
      "2022-07-27 12:33:18.594103: I tensorflow/stream_executor/cuda/cuda_gpu_executor.cc:937] successful NUMA node read from SysFS had negative value (-1), but there must be at least one NUMA node, so returning NUMA node zero\n",
      "2022-07-27 12:33:18.594788: I tensorflow/stream_executor/cuda/cuda_gpu_executor.cc:937] successful NUMA node read from SysFS had negative value (-1), but there must be at least one NUMA node, so returning NUMA node zero\n",
      "2022-07-27 12:33:18.596304: I tensorflow/core/common_runtime/gpu/gpu_device.cc:1510] Created device /job:localhost/replica:0/task:0/device:GPU:0 with 14653 MB memory:  -> device: 0, name: Tesla P100-PCIE-16GB, pci bus id: 0000:00:04.0, compute capability: 6.0\n",
      "2022-07-27 12:33:19.026781: W tensorflow/core/framework/cpu_allocator_impl.cc:80] Allocation of 48001200 exceeds 10% of free system memory.\n"
     ]
    },
    {
     "name": "stdout",
     "output_type": "stream",
     "text": [
      "Model: \"model\"\n",
      "__________________________________________________________________________________________________\n",
      "Layer (type)                    Output Shape         Param #     Connected to                     \n",
      "==================================================================================================\n",
      "input_1 (InputLayer)            [(None, 100)]        0                                            \n",
      "__________________________________________________________________________________________________\n",
      "embedding (Embedding)           (None, 100, 300)     12000300    input_1[0][0]                    \n",
      "__________________________________________________________________________________________________\n",
      "conv1d (Conv1D)                 (None, 98, 128)      115328      embedding[0][0]                  \n",
      "__________________________________________________________________________________________________\n",
      "max_pooling1d (MaxPooling1D)    (None, 49, 128)      0           conv1d[0][0]                     \n",
      "__________________________________________________________________________________________________\n",
      "conv1d_1 (Conv1D)               (None, 47, 64)       24640       max_pooling1d[0][0]              \n",
      "__________________________________________________________________________________________________\n",
      "dropout (Dropout)               (None, 47, 64)       0           conv1d_1[0][0]                   \n",
      "__________________________________________________________________________________________________\n",
      "batch_normalization (BatchNorma (None, 47, 64)       256         dropout[0][0]                    \n",
      "__________________________________________________________________________________________________\n",
      "bidirectional (Bidirectional)   (None, 47, 256)      197632      batch_normalization[0][0]        \n",
      "__________________________________________________________________________________________________\n",
      "dropout_1 (Dropout)             (None, 47, 256)      0           bidirectional[0][0]              \n",
      "__________________________________________________________________________________________________\n",
      "bidirectional_1 (Bidirectional) (None, 47, 128)      164352      dropout_1[0][0]                  \n",
      "__________________________________________________________________________________________________\n",
      "dropout_2 (Dropout)             (None, 47, 128)      0           bidirectional_1[0][0]            \n",
      "__________________________________________________________________________________________________\n",
      "batch_normalization_1 (BatchNor (None, 47, 128)      512         dropout_2[0][0]                  \n",
      "__________________________________________________________________________________________________\n",
      "flatten (Flatten)               (None, 6016)         0           batch_normalization_1[0][0]      \n",
      "__________________________________________________________________________________________________\n",
      "input_2 (InputLayer)            [(None, 1)]          0                                            \n",
      "__________________________________________________________________________________________________\n",
      "dense (Dense)                   (None, 256)          1540352     flatten[0][0]                    \n",
      "__________________________________________________________________________________________________\n",
      "dense_1 (Dense)                 (None, 128)          256         input_2[0][0]                    \n",
      "__________________________________________________________________________________________________\n",
      "concatenate (Concatenate)       (None, 384)          0           dense[0][0]                      \n",
      "                                                                 dense_1[0][0]                    \n",
      "__________________________________________________________________________________________________\n",
      "dense_2 (Dense)                 (None, 64)           24640       concatenate[0][0]                \n",
      "__________________________________________________________________________________________________\n",
      "dropout_3 (Dropout)             (None, 64)           0           dense_2[0][0]                    \n",
      "__________________________________________________________________________________________________\n",
      "batch_normalization_2 (BatchNor (None, 64)           256         dropout_3[0][0]                  \n",
      "__________________________________________________________________________________________________\n",
      "dense_3 (Dense)                 (None, 32)           2080        batch_normalization_2[0][0]      \n",
      "__________________________________________________________________________________________________\n",
      "dropout_4 (Dropout)             (None, 32)           0           dense_3[0][0]                    \n",
      "__________________________________________________________________________________________________\n",
      "dense_4 (Dense)                 (None, 1)            33          dropout_4[0][0]                  \n",
      "==================================================================================================\n",
      "Total params: 14,070,637\n",
      "Trainable params: 2,069,825\n",
      "Non-trainable params: 12,000,812\n",
      "__________________________________________________________________________________________________\n"
     ]
    }
   ],
   "source": [
    "input_layer=Input(shape=(maxlen))\n",
    "embedding_layer=Embedding(input_dim=num_tokens, output_dim=300,weights=[embedding_matrix],trainable=False,embeddings_regularizer =tf.keras.regularizers.l2(0.0001))(input_layer)\n",
    "conv_layer1=Conv1D(128,3,activation=\"relu\",kernel_regularizer = tf.keras.regularizers.l2(0.0001))(embedding_layer)\n",
    "max_pool_layer1=MaxPooling1D(2)(conv_layer1)\n",
    "conv_layer2=Conv1D(64,3,activation=\"relu\",kernel_regularizer = tf.keras.regularizers.l2(0.0001))(max_pool_layer1)\n",
    "max_pool_layer2=MaxPooling1D(2)(conv_layer2)\n",
    "# conv_layer3=Conv1D(64,3,activation=\"relu\",kernel_regularizer = tf.keras.regularizers.l2(0.0001))(max_pool_layer2)\n",
    "drop=Dropout(0.5)(conv_layer2)\n",
    "batch_norm=BatchNormalization()(drop)\n",
    "lstm_layer=Bidirectional(LSTM(128,return_sequences=True))(batch_norm)\n",
    "drop1=Dropout(0.5)(lstm_layer)\n",
    "lstm_layer1=Bidirectional(LSTM(64,return_sequences=True))(drop1)\n",
    "drop2=Dropout(0.5)(lstm_layer1)\n",
    "batch_norm1=BatchNormalization()(drop2)\n",
    "flatten_layer1=Flatten()(batch_norm1)\n",
    "dense_layer1=Dense(256,activation='relu',kernel_initializer=he_normal(),kernel_regularizer=tf.keras.regularizers.l2(0.0001))(flatten_layer1)\n",
    "\n",
    "input_sent_prob=Input(shape=(1,))\n",
    "dense_sent_prob = Dense(128, activation = \"relu\",kernel_initializer = he_normal(),kernel_regularizer=tf.keras.regularizers.l2(0.0001))(input_sent_prob)\n",
    "\n",
    "# input_sent_neg=Input(shape=(1,))\n",
    "# dense_sent_neg = Dense(128, activation = \"relu\",kernel_initializer = he_normal(),kernel_regularizer=tf.keras.regularizers.l2(0.0001))(input_sent_neg)\n",
    "\n",
    "# input_sent_pos=Input(shape=(1,))\n",
    "# dense_sent_pos = Dense(128, activation = \"relu\",kernel_initializer = he_normal(),kernel_regularizer=tf.keras.regularizers.l2(0.0001))(input_sent_pos)\n",
    "\n",
    "# input_sent_neu=Input(shape=(1,))\n",
    "# dense_sent_neu = Dense(128, activation = \"relu\",kernel_initializer = he_normal(),kernel_regularizer=tf.keras.regularizers.l2(0.0001))(input_sent_neu)\n",
    "\n",
    "# input_sent_exc_mark=Input(shape=(1,))\n",
    "# dense_sent_exc_mark = Dense(128, activation = \"relu\",kernel_initializer = he_normal(),kernel_regularizer=tf.keras.regularizers.l2(0.0001))(input_sent_exc_mark)\n",
    "\n",
    "# input_sent_ques_mark=Input(shape=(1,))\n",
    "# dense_sent_ques_mark = Dense(128, activation = \"relu\",kernel_initializer = tf.keras.initializers.he_normal(),kernel_regularizer=tf.keras.regularizers.l2(0.0001))(input_sent_ques_mark)\n",
    "\n",
    "# input_sent_profane_words=Input(shape=(1,))\n",
    "# dense_sent_profane_words= Dense(128, activation = \"relu\",kernel_initializer = tf.keras.initializers.he_normal(),kernel_regularizer=tf.keras.regularizers.l2(0.0001))(input_sent_profane_words)\n",
    "\n",
    "concatenated_layer = concatenate([dense_layer1,dense_sent_prob])\n",
    "\n",
    "x = Dense(64,activation='relu',kernel_initializer=he_normal(),kernel_regularizer=tf.keras.regularizers.l2(0.0001))(concatenated_layer)\n",
    "x = Dropout(0.4)(x)\n",
    "x = BatchNormalization()(x)\n",
    "x = Dense(32,activation='relu',kernel_initializer=he_normal(),kernel_regularizer=tf.keras.regularizers.l2(0.0001))(x)\n",
    "x = Dropout(0.5)(x)\n",
    "\n",
    "output_layer=Dense(1,activation='sigmoid',kernel_initializer = tf.keras.initializers.he_normal())(x)\n",
    "\n",
    "model4=Model([input_layer,input_sent_prob],[output_layer])\n",
    "\n",
    "model4.compile(loss='binary_crossentropy',optimizer=Adam(lr=0.0001),metrics=['accuracy'])\n",
    "model4.summary()\n"
   ]
  },
  {
   "cell_type": "code",
   "execution_count": 20,
   "metadata": {
    "execution": {
     "iopub.execute_input": "2022-07-27T12:34:14.982069Z",
     "iopub.status.busy": "2022-07-27T12:34:14.981713Z",
     "iopub.status.idle": "2022-07-27T13:02:11.695768Z",
     "shell.execute_reply": "2022-07-27T13:02:11.694771Z",
     "shell.execute_reply.started": "2022-07-27T12:34:14.982038Z"
    }
   },
   "outputs": [
    {
     "name": "stderr",
     "output_type": "stream",
     "text": [
      "2022-07-27 12:34:15.061792: W tensorflow/core/framework/cpu_allocator_impl.cc:80] Allocation of 48001200 exceeds 10% of free system memory.\n",
      "2022-07-27 12:34:15.201217: I tensorflow/core/profiler/lib/profiler_session.cc:131] Profiler session initializing.\n",
      "2022-07-27 12:34:15.201267: I tensorflow/core/profiler/lib/profiler_session.cc:146] Profiler session started.\n",
      "2022-07-27 12:34:15.203941: I tensorflow/core/profiler/internal/gpu/cupti_tracer.cc:1614] Profiler found 1 GPUs\n",
      "2022-07-27 12:34:16.412375: I tensorflow/core/profiler/lib/profiler_session.cc:164] Profiler session tear down.\n",
      "2022-07-27 12:34:16.412535: I tensorflow/core/profiler/internal/gpu/cupti_tracer.cc:1748] CUPTI activity buffer flushed\n",
      "2022-07-27 12:34:16.561853: W tensorflow/core/framework/cpu_allocator_impl.cc:80] Allocation of 281716400 exceeds 10% of free system memory.\n",
      "2022-07-27 12:34:16.849145: I tensorflow/compiler/mlir/mlir_graph_optimization_pass.cc:185] None of the MLIR Optimization Passes are enabled (registered 2)\n"
     ]
    },
    {
     "name": "stdout",
     "output_type": "stream",
     "text": [
      "Epoch 1/11\n"
     ]
    },
    {
     "name": "stderr",
     "output_type": "stream",
     "text": [
      "2022-07-27 12:34:23.511205: I tensorflow/stream_executor/cuda/cuda_dnn.cc:369] Loaded cuDNN version 8005\n"
     ]
    },
    {
     "name": "stdout",
     "output_type": "stream",
     "text": [
      "   1/5503 [..............................] - ETA: 18:24:44 - loss: 100.2597 - accuracy: 0.5312"
     ]
    },
    {
     "name": "stderr",
     "output_type": "stream",
     "text": [
      "2022-07-27 12:34:29.182824: I tensorflow/core/profiler/lib/profiler_session.cc:131] Profiler session initializing.\n",
      "2022-07-27 12:34:29.182875: I tensorflow/core/profiler/lib/profiler_session.cc:146] Profiler session started.\n"
     ]
    },
    {
     "name": "stdout",
     "output_type": "stream",
     "text": [
      "   2/5503 [..............................] - ETA: 1:35:02 - loss: 100.2791 - accuracy: 0.5234 "
     ]
    },
    {
     "name": "stderr",
     "output_type": "stream",
     "text": [
      "2022-07-27 12:34:30.004168: I tensorflow/core/profiler/lib/profiler_session.cc:66] Profiler session collecting data.\n",
      "2022-07-27 12:34:30.005670: I tensorflow/core/profiler/internal/gpu/cupti_tracer.cc:1748] CUPTI activity buffer flushed\n",
      "2022-07-27 12:34:30.163741: I tensorflow/core/profiler/internal/gpu/cupti_collector.cc:673]  GpuTracer has collected 1600 callback api events and 1597 activity events. \n",
      "2022-07-27 12:34:30.191742: I tensorflow/core/profiler/lib/profiler_session.cc:164] Profiler session tear down.\n"
     ]
    },
    {
     "name": "stdout",
     "output_type": "stream",
     "text": [
      "   6/5503 [..............................] - ETA: 26:41 - loss: 100.3020 - accuracy: 0.5000  "
     ]
    },
    {
     "name": "stderr",
     "output_type": "stream",
     "text": [
      "2022-07-27 12:34:30.237645: I tensorflow/core/profiler/rpc/client/save_profile.cc:136] Creating directory: logs/20220727-123415/train/plugins/profile/2022_07_27_12_34_30\n",
      "\n",
      "2022-07-27 12:34:30.263309: I tensorflow/core/profiler/rpc/client/save_profile.cc:142] Dumped gzipped tool data for trace.json.gz to logs/20220727-123415/train/plugins/profile/2022_07_27_12_34_30/0d5f21bd266c.trace.json.gz\n",
      "2022-07-27 12:34:30.313235: I tensorflow/core/profiler/rpc/client/save_profile.cc:136] Creating directory: logs/20220727-123415/train/plugins/profile/2022_07_27_12_34_30\n",
      "\n",
      "2022-07-27 12:34:30.319608: I tensorflow/core/profiler/rpc/client/save_profile.cc:142] Dumped gzipped tool data for memory_profile.json.gz to logs/20220727-123415/train/plugins/profile/2022_07_27_12_34_30/0d5f21bd266c.memory_profile.json.gz\n",
      "2022-07-27 12:34:30.321096: I tensorflow/core/profiler/rpc/client/capture_profile.cc:251] Creating directory: logs/20220727-123415/train/plugins/profile/2022_07_27_12_34_30\n",
      "Dumped tool data for xplane.pb to logs/20220727-123415/train/plugins/profile/2022_07_27_12_34_30/0d5f21bd266c.xplane.pb\n",
      "Dumped tool data for overview_page.pb to logs/20220727-123415/train/plugins/profile/2022_07_27_12_34_30/0d5f21bd266c.overview_page.pb\n",
      "Dumped tool data for input_pipeline.pb to logs/20220727-123415/train/plugins/profile/2022_07_27_12_34_30/0d5f21bd266c.input_pipeline.pb\n",
      "Dumped tool data for tensorflow_stats.pb to logs/20220727-123415/train/plugins/profile/2022_07_27_12_34_30/0d5f21bd266c.tensorflow_stats.pb\n",
      "Dumped tool data for kernel_stats.pb to logs/20220727-123415/train/plugins/profile/2022_07_27_12_34_30/0d5f21bd266c.kernel_stats.pb\n",
      "\n"
     ]
    },
    {
     "name": "stdout",
     "output_type": "stream",
     "text": [
      "5502/5503 [============================>.] - ETA: 0s - loss: 99.9986 - accuracy: 0.5651"
     ]
    },
    {
     "name": "stderr",
     "output_type": "stream",
     "text": [
      "2022-07-27 12:36:29.312712: W tensorflow/core/framework/cpu_allocator_impl.cc:80] Allocation of 120735600 exceeds 10% of free system memory.\n"
     ]
    },
    {
     "name": "stdout",
     "output_type": "stream",
     "text": [
      "5503/5503 [==============================] - 175s 30ms/step - loss: 99.9986 - accuracy: 0.5651 - val_loss: 99.9128 - val_accuracy: 0.6501\n"
     ]
    },
    {
     "name": "stderr",
     "output_type": "stream",
     "text": [
      "2022-07-27 12:37:11.774523: W tensorflow/core/framework/cpu_allocator_impl.cc:80] Allocation of 48001200 exceeds 10% of free system memory.\n"
     ]
    },
    {
     "name": "stdout",
     "output_type": "stream",
     "text": [
      "Epoch 2/11\n",
      "5503/5503 [==============================] - 139s 25ms/step - loss: 99.8910 - accuracy: 0.6531 - val_loss: 99.8472 - val_accuracy: 0.6744\n",
      "Epoch 3/11\n",
      "5503/5503 [==============================] - 160s 29ms/step - loss: 99.8369 - accuracy: 0.6773 - val_loss: 99.8391 - val_accuracy: 0.6808\n",
      "Epoch 4/11\n",
      "5503/5503 [==============================] - 160s 29ms/step - loss: 99.8082 - accuracy: 0.6909 - val_loss: 99.7964 - val_accuracy: 0.6894\n",
      "Epoch 5/11\n",
      "5503/5503 [==============================] - 139s 25ms/step - loss: 99.7904 - accuracy: 0.7017 - val_loss: 99.7905 - val_accuracy: 0.6919\n",
      "Epoch 6/11\n",
      "5503/5503 [==============================] - 160s 29ms/step - loss: 99.7789 - accuracy: 0.7096 - val_loss: 99.7989 - val_accuracy: 0.6898\n",
      "Epoch 7/11\n",
      "5503/5503 [==============================] - 140s 25ms/step - loss: 99.7685 - accuracy: 0.7167 - val_loss: 99.7869 - val_accuracy: 0.6916\n",
      "Epoch 8/11\n",
      "5503/5503 [==============================] - 140s 25ms/step - loss: 99.7617 - accuracy: 0.7220 - val_loss: 99.7856 - val_accuracy: 0.6937\n",
      "Epoch 9/11\n",
      "5503/5503 [==============================] - 139s 25ms/step - loss: 99.7541 - accuracy: 0.7275 - val_loss: 99.7829 - val_accuracy: 0.6955\n",
      "Epoch 10/11\n",
      "5503/5503 [==============================] - 140s 25ms/step - loss: 99.7472 - accuracy: 0.7329 - val_loss: 99.7832 - val_accuracy: 0.6954\n",
      "Epoch 11/11\n",
      "5503/5503 [==============================] - 160s 29ms/step - loss: 99.7413 - accuracy: 0.7364 - val_loss: 99.7882 - val_accuracy: 0.6945\n"
     ]
    }
   ],
   "source": [
    "from tensorflow.keras.models import load_model\n",
    "# Save the model\n",
    "model4.save('.//model_proab.h5')\n",
    "log_dir = os.path.join(\"logs\", datetime.datetime.now().strftime(\"%Y%m%d-%H%M%S\"))\n",
    "tensorboard_callback = tf.keras.callbacks.TensorBoard(log_dir=log_dir,histogram_freq=1,write_graph=True)\n",
    "\n",
    "history=model4.fit(train_final,y_train,epochs=11,verbose=1,batch_size=128,\n",
    "         validation_data=(test_final,y_test),callbacks=[tensorboard_callback])"
   ]
  },
  {
   "cell_type": "code",
   "execution_count": 21,
   "metadata": {
    "execution": {
     "iopub.execute_input": "2022-07-27T13:02:11.697919Z",
     "iopub.status.busy": "2022-07-27T13:02:11.697582Z",
     "iopub.status.idle": "2022-07-27T13:02:12.111542Z",
     "shell.execute_reply": "2022-07-27T13:02:12.110628Z",
     "shell.execute_reply.started": "2022-07-27T13:02:11.697884Z"
    }
   },
   "outputs": [
    {
     "data": {
      "image/png": "[encoded data removed]",
      "text/plain": [
       "<Figure size 576x576 with 1 Axes>"
      ]
     },
     "metadata": {
      "needs_background": "light"
     },
     "output_type": "display_data"
    },
    {
     "data": {
      "image/png": "[encoded data removed]",
      "text/plain": [
       "<Figure size 576x576 with 1 Axes>"
      ]
     },
     "metadata": {
      "needs_background": "light"
     },
     "output_type": "display_data"
    }
   ],
   "source": [
    "# machine learning mastery\n",
    "plt.figure(figsize=(8,8))\n",
    "plt.plot(history.history['accuracy'])\n",
    "plt.plot(history.history['val_accuracy'])\n",
    "plt.title('model accuracy')\n",
    "plt.ylabel('accuracy')\n",
    "plt.xlabel('epoch')\n",
    "plt.legend(['train', 'test'], loc='upper left')\n",
    "plt.show()\n",
    "\n",
    "\n",
    "plt.figure(figsize=(8,8))\n",
    "plt.plot(history.history['loss'])\n",
    "plt.plot(history.history['val_loss'])\n",
    "plt.title('model loss')\n",
    "plt.ylabel('loss')\n",
    "plt.xlabel('epoch')\n",
    "plt.legend(['train', 'test'], loc='upper left')\n",
    "plt.show()"
   ]
  },
  {
   "cell_type": "code",
   "execution_count": 22,
   "metadata": {
    "execution": {
     "iopub.execute_input": "2022-07-27T13:02:20.474569Z",
     "iopub.status.busy": "2022-07-27T13:02:20.473964Z",
     "iopub.status.idle": "2022-07-27T13:03:10.605853Z",
     "shell.execute_reply": "2022-07-27T13:03:10.604793Z",
     "shell.execute_reply.started": "2022-07-27T13:02:20.474531Z"
    }
   },
   "outputs": [
    {
     "name": "stdout",
     "output_type": "stream",
     "text": [
      "[1 1 0 ... 0 1 1]\n",
      "301839\n"
     ]
    }
   ],
   "source": [
    "y_pred=model4.predict(test_final)\n",
    "\n",
    "\n",
    "print(y_test)\n",
    "print(len(y_test))"
   ]
  },
  {
   "cell_type": "code",
   "execution_count": 23,
   "metadata": {
    "execution": {
     "iopub.execute_input": "2022-07-27T13:03:27.838312Z",
     "iopub.status.busy": "2022-07-27T13:03:27.837944Z",
     "iopub.status.idle": "2022-07-27T13:03:28.414028Z",
     "shell.execute_reply": "2022-07-27T13:03:28.413090Z",
     "shell.execute_reply.started": "2022-07-27T13:03:27.838277Z"
    }
   },
   "outputs": [
    {
     "name": "stdout",
     "output_type": "stream",
     "text": [
      "[[0.75980985]\n",
      " [0.4388189 ]\n",
      " [0.35957596]\n",
      " ...\n",
      " [0.6899553 ]\n",
      " [0.42524633]\n",
      " [0.38864794]]\n",
      "301839\n"
     ]
    }
   ],
   "source": [
    "print(y_pred)\n",
    "\n",
    "result=list(map(lambda x:1 if x>=0.5 else 0,y_pred))\n",
    "print(len(result))"
   ]
  },
  {
   "cell_type": "code",
   "execution_count": 24,
   "metadata": {
    "execution": {
     "iopub.execute_input": "2022-07-27T13:03:29.071246Z",
     "iopub.status.busy": "2022-07-27T13:03:29.070883Z",
     "iopub.status.idle": "2022-07-27T13:03:29.242086Z",
     "shell.execute_reply": "2022-07-27T13:03:29.241161Z",
     "shell.execute_reply.started": "2022-07-27T13:03:29.071214Z"
    }
   },
   "outputs": [],
   "source": [
    "cf_matrix=(confusion_matrix(y_test,result))"
   ]
  },
  {
   "cell_type": "code",
   "execution_count": 25,
   "metadata": {
    "execution": {
     "iopub.execute_input": "2022-07-27T13:03:29.472531Z",
     "iopub.status.busy": "2022-07-27T13:03:29.471985Z",
     "iopub.status.idle": "2022-07-27T13:03:29.723519Z",
     "shell.execute_reply": "2022-07-27T13:03:29.722396Z",
     "shell.execute_reply.started": "2022-07-27T13:03:29.472493Z"
    }
   },
   "outputs": [
    {
     "data": {
      "image/png": "[encoded data removed]",
      "text/plain": [
       "<Figure size 720x720 with 2 Axes>"
      ]
     },
     "metadata": {
      "needs_background": "light"
     },
     "output_type": "display_data"
    }
   ],
   "source": [
    "# https://medium.com/@dtuk81/confusion-matrix-visualization-fc31e3f30fea\n",
    "plt.figure(figsize=(10,10))\n",
    "group_names = ['True Neg','False Pos','False Neg','True Pos']\n",
    "group_counts = [\"{0:0.0f}\".format(value) for value in\n",
    "                cf_matrix.flatten()]\n",
    "group_percentages = [\"{0:.2%}\".format(value) for value in\n",
    "                     cf_matrix.flatten()/np.sum(cf_matrix)]\n",
    "labels = [f\"{v1}\\n{v2}\\n{v3}\" for v1, v2, v3 in\n",
    "          zip(group_names,group_counts,group_percentages)]\n",
    "labels = np.asarray(labels).reshape(2,2)\n",
    "sns.heatmap(cf_matrix, annot=labels, fmt='', cmap='Blues')\n",
    "plt.show()"
   ]
  },
  {
   "cell_type": "code",
   "execution_count": 26,
   "metadata": {
    "execution": {
     "iopub.execute_input": "2022-07-27T13:03:30.543878Z",
     "iopub.status.busy": "2022-07-27T13:03:30.543140Z",
     "iopub.status.idle": "2022-07-27T13:03:31.209339Z",
     "shell.execute_reply": "2022-07-27T13:03:31.208295Z",
     "shell.execute_reply.started": "2022-07-27T13:03:30.543840Z"
    }
   },
   "outputs": [
    {
     "name": "stdout",
     "output_type": "stream",
     "text": [
      "              precision    recall  f1-score   support\n",
      "\n",
      "           0       0.69      0.71      0.70    151075\n",
      "           1       0.70      0.68      0.69    150764\n",
      "\n",
      "    accuracy                           0.69    301839\n",
      "   macro avg       0.69      0.69      0.69    301839\n",
      "weighted avg       0.69      0.69      0.69    301839\n",
      "\n"
     ]
    }
   ],
   "source": [
    "print(classification_report(y_test,result))"
   ]
  },
  {
   "cell_type": "code",
   "execution_count": 27,
   "metadata": {
    "execution": {
     "iopub.execute_input": "2022-07-27T13:03:36.234413Z",
     "iopub.status.busy": "2022-07-27T13:03:36.233758Z",
     "iopub.status.idle": "2022-07-27T13:03:37.676154Z",
     "shell.execute_reply": "2022-07-27T13:03:37.675048Z",
     "shell.execute_reply.started": "2022-07-27T13:03:36.234375Z"
    }
   },
   "outputs": [
    {
     "data": {
      "image/png": "[encoded data removed]",
      "text/plain": [
       "<IPython.core.display.Image object>"
      ]
     },
     "execution_count": 27,
     "metadata": {},
     "output_type": "execute_result"
    }
   ],
   "source": [
    "tf.keras.utils.plot_model(\n",
    "    model4,\n",
    "    to_file=\"model.png\",\n",
    "    show_shapes=False,\n",
    "    show_dtype=False,\n",
    "    show_layer_names=True,\n",
    "    rankdir=\"TB\",\n",
    "    expand_nested=False,\n",
    "    dpi=96,\n",
    "    layer_range=None,\n",
    " \n",
    ")"
   ]
  },
  {
   "cell_type": "code",
   "execution_count": 55,
   "metadata": {
    "execution": {
     "iopub.execute_input": "2022-07-27T12:08:15.600228Z",
     "iopub.status.busy": "2022-07-27T12:08:15.599818Z",
     "iopub.status.idle": "2022-07-27T12:08:15.608719Z",
     "shell.execute_reply": "2022-07-27T12:08:15.607656Z",
     "shell.execute_reply.started": "2022-07-27T12:08:15.600191Z"
    }
   },
   "outputs": [
    {
     "name": "stdout",
     "output_type": "stream",
     "text": [
      "+------------------------------+----------------+---------------+\n",
      "|            Model             | train_accuracy | test_accuracy |\n",
      "+------------------------------+----------------+---------------+\n",
      "|             LSTM             |     0.7121     |     0.7038    |\n",
      "|             CNN              |     0.7743     |     0.6867    |\n",
      "|           CNN+LSTM           |     0.7394     |     0.698     |\n",
      "| CNN+LSTM+Feature Engineering |     0.7448     |     0.7051    |\n",
      "+------------------------------+----------------+---------------+\n"
     ]
    }
   ],
   "source": [
    "table=PrettyTable(['Model','train_accuracy','test_accuracy'])\n",
    "table.add_row(['LSTM',0.7121,0.7038])\n",
    "table.add_row(['CNN',0.7743,0.6867])\n",
    "table.add_row(['CNN+LSTM',0.7394,0.6980])\n",
    "table.add_row(['CNN+LSTM+Feature Engineering',0.7448,0.7051])\n",
    "print(table)"
   ]
  },
  {
   "cell_type": "code",
   "execution_count": null,
   "metadata": {},
   "outputs": [],
   "source": []
  }
 ],
 "metadata": {
  "kernelspec": {
   "display_name": "Python 3",
   "language": "python",
   "name": "python3"
  },
  "language_info": {
   "codemirror_mode": {
    "name": "ipython",
    "version": 3
   },
   "file_extension": ".py",
   "mimetype": "text/x-python",
   "name": "python",
   "nbconvert_exporter": "python",
   "pygments_lexer": "ipython3",
   "version": "3.8.5"
  }
 },
 "nbformat": 4,
 "nbformat_minor": 4
}
